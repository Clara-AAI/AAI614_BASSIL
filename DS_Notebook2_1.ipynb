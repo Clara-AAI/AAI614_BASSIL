{
  "cells": [
    {
      "cell_type": "markdown",
      "metadata": {
        "id": "view-in-github",
        "colab_type": "text"
      },
      "source": [
        "<a href=\"https://colab.research.google.com/github/Clara-AAI/AAI614_BASSIL/blob/main/DS_Notebook2_1.ipynb\" target=\"_parent\"><img src=\"https://colab.research.google.com/assets/colab-badge.svg\" alt=\"Open In Colab\"/></a>"
      ]
    },
    {
      "cell_type": "markdown",
      "metadata": {
        "id": "GV8S-SDBwxho"
      },
      "source": [
        "# AAI614: Data Science & its Applications\n",
        "\n",
        "*Notebook 2.1: Practice with Pandas*\n",
        "\n",
        "[![Open In Colab](https://colab.research.google.com/assets/colab-badge.svg)](https://colab.research.google.com/drive/1IUZS7aTO6r8JsxlXUGi-VR58jmSVMkBA?usp=sharing)\n",
        "\n",
        "\n",
        "*This notebook contains excerpts from the [Pandas in Action](https://www.manning.com/books/pandas-in-action) by Boris Paskhaver.*"
      ]
    },
    {
      "cell_type": "markdown",
      "metadata": {
        "id": "jkuK_wRcwxhq"
      },
      "source": [
        "### 1. Read the file"
      ]
    },
    {
      "cell_type": "code",
      "execution_count": null,
      "metadata": {
        "id": "XGyZC4qkwxhr",
        "outputId": "a08a589e-2c54-4af2-fad5-12397af0b5d5"
      },
      "outputs": [
        {
          "name": "stderr",
          "output_type": "stream",
          "text": [
            "C:\\Users\\clara\\AppData\\Local\\Temp\\ipykernel_8940\\2759015306.py:1: DeprecationWarning: \n",
            "Pyarrow will become a required dependency of pandas in the next major release of pandas (pandas 3.0),\n",
            "(to allow more performant data types, such as the Arrow string type, and better interoperability with other libraries)\n",
            "but was not found to be installed on your system.\n",
            "If this would cause problems for you,\n",
            "please provide us feedback at https://github.com/pandas-dev/pandas/issues/54466\n",
            "        \n",
            "  import pandas as pd\n"
          ]
        }
      ],
      "source": [
        "import pandas as pd\n",
        "import numpy as np\n",
        "import ssl\n",
        "\n",
        "ssl._create_default_https_context = ssl._create_unverified_context\n",
        "\n",
        "nba = pd.read_csv(\"https://raw.githubusercontent.com/harmanani/AAI614/main/Week%202/nba.csv\")"
      ]
    },
    {
      "cell_type": "markdown",
      "metadata": {
        "id": "Vu3ejWPMwxhs"
      },
      "source": [
        "### 1. Shared and Exclusive Attributes between Series and DataFrames"
      ]
    },
    {
      "cell_type": "code",
      "execution_count": null,
      "metadata": {
        "id": "9QgcHfbqwxhs",
        "outputId": "2ee59f9b-b142-4cfa-84ec-8df972d81c4b"
      },
      "outputs": [
        {
          "data": {
            "text/plain": [
              "dtype('int64')"
            ]
          },
          "execution_count": 2,
          "metadata": {},
          "output_type": "execute_result"
        }
      ],
      "source": [
        "pd.Series([1, 2, 3]).dtype"
      ]
    },
    {
      "cell_type": "code",
      "execution_count": null,
      "metadata": {
        "id": "795QA0CBwxhs",
        "outputId": "66f1c9a5-9ff0-4d8c-adba-9a9fe200c3b1"
      },
      "outputs": [
        {
          "data": {
            "text/plain": [
              "Name        object\n",
              "Team        object\n",
              "Position    object\n",
              "Birthday    object\n",
              "Salary       int64\n",
              "dtype: object"
            ]
          },
          "execution_count": 3,
          "metadata": {},
          "output_type": "execute_result"
        }
      ],
      "source": [
        "nba.dtypes"
      ]
    },
    {
      "cell_type": "code",
      "execution_count": null,
      "metadata": {
        "id": "aIPODpiOwxht",
        "outputId": "36b9fcad-c71a-46af-aec3-59bd7c945659"
      },
      "outputs": [
        {
          "data": {
            "text/plain": [
              "object    4\n",
              "int64     1\n",
              "Name: count, dtype: int64"
            ]
          },
          "execution_count": 4,
          "metadata": {},
          "output_type": "execute_result"
        }
      ],
      "source": [
        "nba.dtypes.value_counts()"
      ]
    },
    {
      "cell_type": "code",
      "execution_count": null,
      "metadata": {
        "id": "Dtv7Pqcmwxht",
        "outputId": "0552a615-428e-4231-faee-95063316ac39"
      },
      "outputs": [
        {
          "data": {
            "text/plain": [
              "RangeIndex(start=0, stop=450, step=1)"
            ]
          },
          "execution_count": 5,
          "metadata": {},
          "output_type": "execute_result"
        }
      ],
      "source": [
        "nba.index"
      ]
    },
    {
      "cell_type": "code",
      "execution_count": null,
      "metadata": {
        "id": "HXg-d4bCwxht",
        "outputId": "95d0c32c-6635-4683-ee78-4c2424f6e731"
      },
      "outputs": [
        {
          "data": {
            "text/plain": [
              "Index(['Name', 'Team', 'Position', 'Birthday', 'Salary'], dtype='object')"
            ]
          },
          "execution_count": 6,
          "metadata": {},
          "output_type": "execute_result"
        }
      ],
      "source": [
        "nba.columns"
      ]
    },
    {
      "cell_type": "code",
      "execution_count": null,
      "metadata": {
        "id": "lCXwVlX1wxht",
        "outputId": "08ae37f2-7cb8-4bcc-cc69-13dd144ca54c"
      },
      "outputs": [
        {
          "data": {
            "text/plain": [
              "2"
            ]
          },
          "execution_count": 7,
          "metadata": {},
          "output_type": "execute_result"
        }
      ],
      "source": [
        "nba.ndim"
      ]
    },
    {
      "cell_type": "code",
      "execution_count": null,
      "metadata": {
        "id": "Dkr_66m2wxhu",
        "outputId": "bc24a82d-b3a1-4062-8d3c-e36d47e0c90a"
      },
      "outputs": [
        {
          "data": {
            "text/plain": [
              "(450, 5)"
            ]
          },
          "execution_count": 8,
          "metadata": {},
          "output_type": "execute_result"
        }
      ],
      "source": [
        "nba.shape"
      ]
    },
    {
      "cell_type": "code",
      "execution_count": null,
      "metadata": {
        "id": "aPTaHSMawxhu",
        "outputId": "afac53e6-7f0f-44f1-9216-4175a232ddb9"
      },
      "outputs": [
        {
          "data": {
            "text/plain": [
              "2250"
            ]
          },
          "execution_count": 9,
          "metadata": {},
          "output_type": "execute_result"
        }
      ],
      "source": [
        "nba.size"
      ]
    },
    {
      "cell_type": "code",
      "execution_count": null,
      "metadata": {
        "id": "QrED2oHXwxhu",
        "outputId": "f3d787f6-4186-455d-a037-234d2071395a"
      },
      "outputs": [
        {
          "data": {
            "text/plain": [
              "Name        450\n",
              "Team        450\n",
              "Position    450\n",
              "Birthday    450\n",
              "Salary      450\n",
              "dtype: int64"
            ]
          },
          "execution_count": 10,
          "metadata": {},
          "output_type": "execute_result"
        }
      ],
      "source": [
        "nba.count()"
      ]
    },
    {
      "cell_type": "code",
      "execution_count": null,
      "metadata": {
        "id": "USRXlp0Qwxhu",
        "outputId": "7cb7eac2-e67e-4e04-ee07-b378f5b0b763"
      },
      "outputs": [
        {
          "data": {
            "text/plain": [
              "2250"
            ]
          },
          "execution_count": 11,
          "metadata": {},
          "output_type": "execute_result"
        }
      ],
      "source": [
        "nba.count().sum()"
      ]
    },
    {
      "cell_type": "code",
      "execution_count": null,
      "metadata": {
        "id": "0G5xTf2vwxhu",
        "outputId": "4a263733-d6e5-4a4c-c4cd-b6e9993082e8"
      },
      "outputs": [
        {
          "data": {
            "text/html": [
              "<div>\n",
              "<style scoped>\n",
              "    .dataframe tbody tr th:only-of-type {\n",
              "        vertical-align: middle;\n",
              "    }\n",
              "\n",
              "    .dataframe tbody tr th {\n",
              "        vertical-align: top;\n",
              "    }\n",
              "\n",
              "    .dataframe thead th {\n",
              "        text-align: right;\n",
              "    }\n",
              "</style>\n",
              "<table border=\"1\" class=\"dataframe\">\n",
              "  <thead>\n",
              "    <tr style=\"text-align: right;\">\n",
              "      <th></th>\n",
              "      <th>A</th>\n",
              "      <th>B</th>\n",
              "    </tr>\n",
              "  </thead>\n",
              "  <tbody>\n",
              "    <tr>\n",
              "      <th>0</th>\n",
              "      <td>1.0</td>\n",
              "      <td>2</td>\n",
              "    </tr>\n",
              "    <tr>\n",
              "      <th>1</th>\n",
              "      <td>NaN</td>\n",
              "      <td>3</td>\n",
              "    </tr>\n",
              "  </tbody>\n",
              "</table>\n",
              "</div>"
            ],
            "text/plain": [
              "     A  B\n",
              "0  1.0  2\n",
              "1  NaN  3"
            ]
          },
          "execution_count": 12,
          "metadata": {},
          "output_type": "execute_result"
        }
      ],
      "source": [
        "data = {\n",
        "    \"A\": [1, np.nan],\n",
        "    \"B\": [2, 3]\n",
        "}\n",
        "\n",
        "df = pd.DataFrame(data)\n",
        "df"
      ]
    },
    {
      "cell_type": "code",
      "execution_count": null,
      "metadata": {
        "id": "S5fj4qiXwxhv",
        "outputId": "17e7afb1-2a5e-457f-dabc-0c05d7e311af"
      },
      "outputs": [
        {
          "data": {
            "text/plain": [
              "4"
            ]
          },
          "execution_count": 13,
          "metadata": {},
          "output_type": "execute_result"
        }
      ],
      "source": [
        "df.size"
      ]
    },
    {
      "cell_type": "code",
      "execution_count": null,
      "metadata": {
        "id": "fa3PrMwKwxhv",
        "outputId": "38c76d1d-fd44-4b75-cd31-f5b099e9347f"
      },
      "outputs": [
        {
          "data": {
            "text/plain": [
              "A    1\n",
              "B    2\n",
              "dtype: int64"
            ]
          },
          "execution_count": 14,
          "metadata": {},
          "output_type": "execute_result"
        }
      ],
      "source": [
        "df.count()"
      ]
    },
    {
      "cell_type": "code",
      "execution_count": null,
      "metadata": {
        "id": "yGzZSV0uwxhv",
        "outputId": "5fb2a50a-79f8-4681-c1fe-bddded384260"
      },
      "outputs": [
        {
          "data": {
            "text/plain": [
              "3"
            ]
          },
          "execution_count": 15,
          "metadata": {},
          "output_type": "execute_result"
        }
      ],
      "source": [
        "df.count().sum()"
      ]
    },
    {
      "cell_type": "markdown",
      "metadata": {
        "id": "eSPgcaCWwxhv"
      },
      "source": [
        "### 2. Shared Methods between Series and DataFrames"
      ]
    },
    {
      "cell_type": "code",
      "execution_count": null,
      "metadata": {
        "id": "p_EXT0XBwxhv",
        "outputId": "bd4100cb-43a7-43ce-eab0-abad248fd09b"
      },
      "outputs": [
        {
          "data": {
            "text/html": [
              "<div>\n",
              "<style scoped>\n",
              "    .dataframe tbody tr th:only-of-type {\n",
              "        vertical-align: middle;\n",
              "    }\n",
              "\n",
              "    .dataframe tbody tr th {\n",
              "        vertical-align: top;\n",
              "    }\n",
              "\n",
              "    .dataframe thead th {\n",
              "        text-align: right;\n",
              "    }\n",
              "</style>\n",
              "<table border=\"1\" class=\"dataframe\">\n",
              "  <thead>\n",
              "    <tr style=\"text-align: right;\">\n",
              "      <th></th>\n",
              "      <th>Name</th>\n",
              "      <th>Team</th>\n",
              "      <th>Position</th>\n",
              "      <th>Birthday</th>\n",
              "      <th>Salary</th>\n",
              "    </tr>\n",
              "  </thead>\n",
              "  <tbody>\n",
              "    <tr>\n",
              "      <th>0</th>\n",
              "      <td>Shake Milton</td>\n",
              "      <td>Philadelphia 76ers</td>\n",
              "      <td>SG</td>\n",
              "      <td>9/26/96</td>\n",
              "      <td>1445697</td>\n",
              "    </tr>\n",
              "    <tr>\n",
              "      <th>1</th>\n",
              "      <td>Christian Wood</td>\n",
              "      <td>Detroit Pistons</td>\n",
              "      <td>PF</td>\n",
              "      <td>9/27/95</td>\n",
              "      <td>1645357</td>\n",
              "    </tr>\n",
              "  </tbody>\n",
              "</table>\n",
              "</div>"
            ],
            "text/plain": [
              "             Name                Team Position Birthday   Salary\n",
              "0    Shake Milton  Philadelphia 76ers       SG  9/26/96  1445697\n",
              "1  Christian Wood     Detroit Pistons       PF  9/27/95  1645357"
            ]
          },
          "execution_count": 16,
          "metadata": {},
          "output_type": "execute_result"
        }
      ],
      "source": [
        "nba.head(2)"
      ]
    },
    {
      "cell_type": "code",
      "execution_count": null,
      "metadata": {
        "id": "5pP7jQpDwxhv",
        "outputId": "3cb80a4f-b2e9-48fe-c89d-8fa5b9eb09d9"
      },
      "outputs": [
        {
          "data": {
            "text/html": [
              "<div>\n",
              "<style scoped>\n",
              "    .dataframe tbody tr th:only-of-type {\n",
              "        vertical-align: middle;\n",
              "    }\n",
              "\n",
              "    .dataframe tbody tr th {\n",
              "        vertical-align: top;\n",
              "    }\n",
              "\n",
              "    .dataframe thead th {\n",
              "        text-align: right;\n",
              "    }\n",
              "</style>\n",
              "<table border=\"1\" class=\"dataframe\">\n",
              "  <thead>\n",
              "    <tr style=\"text-align: right;\">\n",
              "      <th></th>\n",
              "      <th>Name</th>\n",
              "      <th>Team</th>\n",
              "      <th>Position</th>\n",
              "      <th>Birthday</th>\n",
              "      <th>Salary</th>\n",
              "    </tr>\n",
              "  </thead>\n",
              "  <tbody>\n",
              "    <tr>\n",
              "      <th>447</th>\n",
              "      <td>Robin Lopez</td>\n",
              "      <td>Milwaukee Bucks</td>\n",
              "      <td>C</td>\n",
              "      <td>4/1/88</td>\n",
              "      <td>4767000</td>\n",
              "    </tr>\n",
              "    <tr>\n",
              "      <th>448</th>\n",
              "      <td>Collin Sexton</td>\n",
              "      <td>Cleveland Cavaliers</td>\n",
              "      <td>PG</td>\n",
              "      <td>1/4/99</td>\n",
              "      <td>4764960</td>\n",
              "    </tr>\n",
              "    <tr>\n",
              "      <th>449</th>\n",
              "      <td>Ricky Rubio</td>\n",
              "      <td>Phoenix Suns</td>\n",
              "      <td>PG</td>\n",
              "      <td>10/21/90</td>\n",
              "      <td>16200000</td>\n",
              "    </tr>\n",
              "  </tbody>\n",
              "</table>\n",
              "</div>"
            ],
            "text/plain": [
              "              Name                 Team Position  Birthday    Salary\n",
              "447    Robin Lopez      Milwaukee Bucks        C    4/1/88   4767000\n",
              "448  Collin Sexton  Cleveland Cavaliers       PG    1/4/99   4764960\n",
              "449    Ricky Rubio         Phoenix Suns       PG  10/21/90  16200000"
            ]
          },
          "execution_count": 17,
          "metadata": {},
          "output_type": "execute_result"
        }
      ],
      "source": [
        "nba.tail(n = 3)"
      ]
    },
    {
      "cell_type": "code",
      "execution_count": null,
      "metadata": {
        "id": "nuLCE_zYwxhv",
        "outputId": "a7f2e8ad-950e-415a-a8ca-b7feecdbc4cc"
      },
      "outputs": [
        {
          "data": {
            "text/html": [
              "<div>\n",
              "<style scoped>\n",
              "    .dataframe tbody tr th:only-of-type {\n",
              "        vertical-align: middle;\n",
              "    }\n",
              "\n",
              "    .dataframe tbody tr th {\n",
              "        vertical-align: top;\n",
              "    }\n",
              "\n",
              "    .dataframe thead th {\n",
              "        text-align: right;\n",
              "    }\n",
              "</style>\n",
              "<table border=\"1\" class=\"dataframe\">\n",
              "  <thead>\n",
              "    <tr style=\"text-align: right;\">\n",
              "      <th></th>\n",
              "      <th>Name</th>\n",
              "      <th>Team</th>\n",
              "      <th>Position</th>\n",
              "      <th>Birthday</th>\n",
              "      <th>Salary</th>\n",
              "    </tr>\n",
              "  </thead>\n",
              "  <tbody>\n",
              "    <tr>\n",
              "      <th>445</th>\n",
              "      <td>Austin Rivers</td>\n",
              "      <td>Houston Rockets</td>\n",
              "      <td>PG</td>\n",
              "      <td>8/1/92</td>\n",
              "      <td>2174310</td>\n",
              "    </tr>\n",
              "    <tr>\n",
              "      <th>446</th>\n",
              "      <td>Harry Giles</td>\n",
              "      <td>Sacramento Kings</td>\n",
              "      <td>PF</td>\n",
              "      <td>4/22/98</td>\n",
              "      <td>2578800</td>\n",
              "    </tr>\n",
              "    <tr>\n",
              "      <th>447</th>\n",
              "      <td>Robin Lopez</td>\n",
              "      <td>Milwaukee Bucks</td>\n",
              "      <td>C</td>\n",
              "      <td>4/1/88</td>\n",
              "      <td>4767000</td>\n",
              "    </tr>\n",
              "    <tr>\n",
              "      <th>448</th>\n",
              "      <td>Collin Sexton</td>\n",
              "      <td>Cleveland Cavaliers</td>\n",
              "      <td>PG</td>\n",
              "      <td>1/4/99</td>\n",
              "      <td>4764960</td>\n",
              "    </tr>\n",
              "    <tr>\n",
              "      <th>449</th>\n",
              "      <td>Ricky Rubio</td>\n",
              "      <td>Phoenix Suns</td>\n",
              "      <td>PG</td>\n",
              "      <td>10/21/90</td>\n",
              "      <td>16200000</td>\n",
              "    </tr>\n",
              "  </tbody>\n",
              "</table>\n",
              "</div>"
            ],
            "text/plain": [
              "              Name                 Team Position  Birthday    Salary\n",
              "445  Austin Rivers      Houston Rockets       PG    8/1/92   2174310\n",
              "446    Harry Giles     Sacramento Kings       PF   4/22/98   2578800\n",
              "447    Robin Lopez      Milwaukee Bucks        C    4/1/88   4767000\n",
              "448  Collin Sexton  Cleveland Cavaliers       PG    1/4/99   4764960\n",
              "449    Ricky Rubio         Phoenix Suns       PG  10/21/90  16200000"
            ]
          },
          "execution_count": 18,
          "metadata": {},
          "output_type": "execute_result"
        }
      ],
      "source": [
        "nba.tail()"
      ]
    },
    {
      "cell_type": "code",
      "execution_count": null,
      "metadata": {
        "id": "s5_L4jm9wxhw",
        "outputId": "d91dc052-5962-4110-8f9a-32bef3825a2a"
      },
      "outputs": [
        {
          "data": {
            "text/html": [
              "<div>\n",
              "<style scoped>\n",
              "    .dataframe tbody tr th:only-of-type {\n",
              "        vertical-align: middle;\n",
              "    }\n",
              "\n",
              "    .dataframe tbody tr th {\n",
              "        vertical-align: top;\n",
              "    }\n",
              "\n",
              "    .dataframe thead th {\n",
              "        text-align: right;\n",
              "    }\n",
              "</style>\n",
              "<table border=\"1\" class=\"dataframe\">\n",
              "  <thead>\n",
              "    <tr style=\"text-align: right;\">\n",
              "      <th></th>\n",
              "      <th>Name</th>\n",
              "      <th>Team</th>\n",
              "      <th>Position</th>\n",
              "      <th>Birthday</th>\n",
              "      <th>Salary</th>\n",
              "    </tr>\n",
              "  </thead>\n",
              "  <tbody>\n",
              "    <tr>\n",
              "      <th>108</th>\n",
              "      <td>Marquese Chriss</td>\n",
              "      <td>Golden State Warriors</td>\n",
              "      <td>PF</td>\n",
              "      <td>7/2/97</td>\n",
              "      <td>1678854</td>\n",
              "    </tr>\n",
              "    <tr>\n",
              "      <th>62</th>\n",
              "      <td>Dwight Powell</td>\n",
              "      <td>Dallas Mavericks</td>\n",
              "      <td>C</td>\n",
              "      <td>7/20/91</td>\n",
              "      <td>10259375</td>\n",
              "    </tr>\n",
              "    <tr>\n",
              "      <th>67</th>\n",
              "      <td>Jarrett Culver</td>\n",
              "      <td>Minnesota Timberwolves</td>\n",
              "      <td>SG</td>\n",
              "      <td>2/20/99</td>\n",
              "      <td>5813640</td>\n",
              "    </tr>\n",
              "  </tbody>\n",
              "</table>\n",
              "</div>"
            ],
            "text/plain": [
              "                Name                    Team Position Birthday    Salary\n",
              "108  Marquese Chriss   Golden State Warriors       PF   7/2/97   1678854\n",
              "62     Dwight Powell        Dallas Mavericks        C  7/20/91  10259375\n",
              "67    Jarrett Culver  Minnesota Timberwolves       SG  2/20/99   5813640"
            ]
          },
          "execution_count": 19,
          "metadata": {},
          "output_type": "execute_result"
        }
      ],
      "source": [
        "nba.sample(3)"
      ]
    },
    {
      "cell_type": "code",
      "execution_count": null,
      "metadata": {
        "id": "t0j8txdvwxhw",
        "outputId": "0568676a-f3d1-4566-9306-5a8822d32ff2"
      },
      "outputs": [
        {
          "data": {
            "text/plain": [
              "Name        450\n",
              "Team         30\n",
              "Position      9\n",
              "Birthday    430\n",
              "Salary      269\n",
              "dtype: int64"
            ]
          },
          "execution_count": 20,
          "metadata": {},
          "output_type": "execute_result"
        }
      ],
      "source": [
        "nba.nunique()"
      ]
    },
    {
      "cell_type": "code",
      "execution_count": null,
      "metadata": {
        "id": "geVusm2ewxhw",
        "outputId": "e71e6f0b-824f-4be9-e903-99a9dd5c2e9c"
      },
      "outputs": [
        {
          "data": {
            "text/plain": [
              "Name            Zylan Cheatham\n",
              "Team        Washington Wizards\n",
              "Position                    SG\n",
              "Birthday                9/9/93\n",
              "Salary                40231758\n",
              "dtype: object"
            ]
          },
          "execution_count": 21,
          "metadata": {},
          "output_type": "execute_result"
        }
      ],
      "source": [
        "nba.max()"
      ]
    },
    {
      "cell_type": "code",
      "execution_count": null,
      "metadata": {
        "id": "acyaXfopwxhw",
        "outputId": "07191724-51e1-41b8-aad6-b512ba59137f"
      },
      "outputs": [
        {
          "data": {
            "text/plain": [
              "Name         Aaron Gordon\n",
              "Team        Atlanta Hawks\n",
              "Position                C\n",
              "Birthday          1/10/98\n",
              "Salary              79568\n",
              "dtype: object"
            ]
          },
          "execution_count": 22,
          "metadata": {},
          "output_type": "execute_result"
        }
      ],
      "source": [
        "nba.min()"
      ]
    },
    {
      "cell_type": "code",
      "execution_count": null,
      "metadata": {
        "id": "3Sqyz3r8wxhw",
        "outputId": "7741d3a0-77d6-45e5-ec5d-55ebbbca7f94"
      },
      "outputs": [
        {
          "data": {
            "text/html": [
              "<div>\n",
              "<style scoped>\n",
              "    .dataframe tbody tr th:only-of-type {\n",
              "        vertical-align: middle;\n",
              "    }\n",
              "\n",
              "    .dataframe tbody tr th {\n",
              "        vertical-align: top;\n",
              "    }\n",
              "\n",
              "    .dataframe thead th {\n",
              "        text-align: right;\n",
              "    }\n",
              "</style>\n",
              "<table border=\"1\" class=\"dataframe\">\n",
              "  <thead>\n",
              "    <tr style=\"text-align: right;\">\n",
              "      <th></th>\n",
              "      <th>Name</th>\n",
              "      <th>Team</th>\n",
              "      <th>Position</th>\n",
              "      <th>Birthday</th>\n",
              "      <th>Salary</th>\n",
              "    </tr>\n",
              "  </thead>\n",
              "  <tbody>\n",
              "    <tr>\n",
              "      <th>205</th>\n",
              "      <td>Stephen Curry</td>\n",
              "      <td>Golden State Warriors</td>\n",
              "      <td>PG</td>\n",
              "      <td>3/14/88</td>\n",
              "      <td>40231758</td>\n",
              "    </tr>\n",
              "    <tr>\n",
              "      <th>38</th>\n",
              "      <td>Chris Paul</td>\n",
              "      <td>Oklahoma City Thunder</td>\n",
              "      <td>PG</td>\n",
              "      <td>5/6/85</td>\n",
              "      <td>38506482</td>\n",
              "    </tr>\n",
              "    <tr>\n",
              "      <th>219</th>\n",
              "      <td>Russell Westbrook</td>\n",
              "      <td>Houston Rockets</td>\n",
              "      <td>PG</td>\n",
              "      <td>11/12/88</td>\n",
              "      <td>38506482</td>\n",
              "    </tr>\n",
              "    <tr>\n",
              "      <th>251</th>\n",
              "      <td>John Wall</td>\n",
              "      <td>Washington Wizards</td>\n",
              "      <td>PG</td>\n",
              "      <td>9/6/90</td>\n",
              "      <td>38199000</td>\n",
              "    </tr>\n",
              "  </tbody>\n",
              "</table>\n",
              "</div>"
            ],
            "text/plain": [
              "                  Name                   Team Position  Birthday    Salary\n",
              "205      Stephen Curry  Golden State Warriors       PG   3/14/88  40231758\n",
              "38          Chris Paul  Oklahoma City Thunder       PG    5/6/85  38506482\n",
              "219  Russell Westbrook        Houston Rockets       PG  11/12/88  38506482\n",
              "251          John Wall     Washington Wizards       PG    9/6/90  38199000"
            ]
          },
          "execution_count": 23,
          "metadata": {},
          "output_type": "execute_result"
        }
      ],
      "source": [
        "nba.nlargest(n = 4, columns = \"Salary\")"
      ]
    },
    {
      "cell_type": "code",
      "execution_count": null,
      "metadata": {
        "id": "zbLC1ee8wxhw"
      },
      "outputs": [],
      "source": [
        "nba['Birthday'] = pd.to_datetime(nba['Birthday'],format='%Y,%m,%d')"
      ]
    },
    {
      "cell_type": "code",
      "execution_count": null,
      "metadata": {
        "id": "fb1wx0_Bwxhw",
        "outputId": "39f993ac-40aa-47f2-b394-c741bc9cef31"
      },
      "outputs": [
        {
          "data": {
            "text/html": [
              "<div>\n",
              "<style scoped>\n",
              "    .dataframe tbody tr th:only-of-type {\n",
              "        vertical-align: middle;\n",
              "    }\n",
              "\n",
              "    .dataframe tbody tr th {\n",
              "        vertical-align: top;\n",
              "    }\n",
              "\n",
              "    .dataframe thead th {\n",
              "        text-align: right;\n",
              "    }\n",
              "</style>\n",
              "<table border=\"1\" class=\"dataframe\">\n",
              "  <thead>\n",
              "    <tr style=\"text-align: right;\">\n",
              "      <th></th>\n",
              "      <th>Name</th>\n",
              "      <th>Team</th>\n",
              "      <th>Position</th>\n",
              "      <th>Birthday</th>\n",
              "      <th>Salary</th>\n",
              "    </tr>\n",
              "  </thead>\n",
              "  <tbody>\n",
              "    <tr>\n",
              "      <th>98</th>\n",
              "      <td>Vince Carter</td>\n",
              "      <td>Atlanta Hawks</td>\n",
              "      <td>PF</td>\n",
              "      <td>1977-01-26</td>\n",
              "      <td>2564753</td>\n",
              "    </tr>\n",
              "    <tr>\n",
              "      <th>196</th>\n",
              "      <td>Udonis Haslem</td>\n",
              "      <td>Miami Heat</td>\n",
              "      <td>C</td>\n",
              "      <td>1980-06-09</td>\n",
              "      <td>2564753</td>\n",
              "    </tr>\n",
              "    <tr>\n",
              "      <th>262</th>\n",
              "      <td>Kyle Korver</td>\n",
              "      <td>Milwaukee Bucks</td>\n",
              "      <td>PF</td>\n",
              "      <td>1981-03-17</td>\n",
              "      <td>6004753</td>\n",
              "    </tr>\n",
              "  </tbody>\n",
              "</table>\n",
              "</div>"
            ],
            "text/plain": [
              "              Name             Team Position   Birthday   Salary\n",
              "98    Vince Carter    Atlanta Hawks       PF 1977-01-26  2564753\n",
              "196  Udonis Haslem       Miami Heat        C 1980-06-09  2564753\n",
              "262    Kyle Korver  Milwaukee Bucks       PF 1981-03-17  6004753"
            ]
          },
          "execution_count": 26,
          "metadata": {},
          "output_type": "execute_result"
        }
      ],
      "source": [
        "nba.nsmallest(n = 3, columns = [\"Birthday\"])"
      ]
    },
    {
      "cell_type": "markdown",
      "metadata": {
        "id": "C1NWMyoTwxhw"
      },
      "source": [
        "#### The following should give an error.  No need to panic :-)"
      ]
    },
    {
      "cell_type": "code",
      "execution_count": null,
      "metadata": {
        "id": "IvLocC3Ewxhw"
      },
      "outputs": [],
      "source": [
        "#nba.sum()"
      ]
    },
    {
      "cell_type": "code",
      "execution_count": null,
      "metadata": {
        "id": "d5m3IMmOwxhx",
        "outputId": "132ba8c5-a3aa-42a0-d693-c71eb331b386"
      },
      "outputs": [
        {
          "data": {
            "text/plain": [
              "Salary    3444112694\n",
              "dtype: int64"
            ]
          },
          "execution_count": 28,
          "metadata": {},
          "output_type": "execute_result"
        }
      ],
      "source": [
        "nba.sum(numeric_only = True)"
      ]
    },
    {
      "cell_type": "code",
      "execution_count": null,
      "metadata": {
        "id": "unqHQGMOwxhx",
        "outputId": "57848199-fdfc-4bca-d01a-67a60f4e9e25"
      },
      "outputs": [
        {
          "data": {
            "text/plain": [
              "Salary    7.653584e+06\n",
              "dtype: float64"
            ]
          },
          "execution_count": 29,
          "metadata": {},
          "output_type": "execute_result"
        }
      ],
      "source": [
        "nba.mean(numeric_only = True)"
      ]
    },
    {
      "cell_type": "code",
      "execution_count": null,
      "metadata": {
        "id": "s20vbKnnwxhx",
        "outputId": "a2dbfd8d-dfd6-4fbe-db74-2829f8f29ae5"
      },
      "outputs": [
        {
          "data": {
            "text/plain": [
              "Salary    3303074.5\n",
              "dtype: float64"
            ]
          },
          "execution_count": 30,
          "metadata": {},
          "output_type": "execute_result"
        }
      ],
      "source": [
        "nba.median(numeric_only = True)"
      ]
    },
    {
      "cell_type": "code",
      "execution_count": null,
      "metadata": {
        "id": "h5p04l5fwxhx",
        "outputId": "94a3d4f4-f8c2-4d01-af22-876396351415"
      },
      "outputs": [
        {
          "data": {
            "text/html": [
              "<div>\n",
              "<style scoped>\n",
              "    .dataframe tbody tr th:only-of-type {\n",
              "        vertical-align: middle;\n",
              "    }\n",
              "\n",
              "    .dataframe tbody tr th {\n",
              "        vertical-align: top;\n",
              "    }\n",
              "\n",
              "    .dataframe thead th {\n",
              "        text-align: right;\n",
              "    }\n",
              "</style>\n",
              "<table border=\"1\" class=\"dataframe\">\n",
              "  <thead>\n",
              "    <tr style=\"text-align: right;\">\n",
              "      <th></th>\n",
              "      <th>Salary</th>\n",
              "    </tr>\n",
              "  </thead>\n",
              "  <tbody>\n",
              "    <tr>\n",
              "      <th>0</th>\n",
              "      <td>79568</td>\n",
              "    </tr>\n",
              "  </tbody>\n",
              "</table>\n",
              "</div>"
            ],
            "text/plain": [
              "   Salary\n",
              "0   79568"
            ]
          },
          "execution_count": 31,
          "metadata": {},
          "output_type": "execute_result"
        }
      ],
      "source": [
        "nba.mode(numeric_only = True)"
      ]
    },
    {
      "cell_type": "code",
      "execution_count": null,
      "metadata": {
        "id": "OCSCF85Jwxhx",
        "outputId": "2ab5ddf5-9c87-49db-d08f-1092da6b8ab3"
      },
      "outputs": [
        {
          "data": {
            "text/plain": [
              "Salary    9.288810e+06\n",
              "dtype: float64"
            ]
          },
          "execution_count": 32,
          "metadata": {},
          "output_type": "execute_result"
        }
      ],
      "source": [
        "nba.std(numeric_only = True)"
      ]
    },
    {
      "cell_type": "markdown",
      "metadata": {
        "id": "vM7osE5Uwxhx"
      },
      "source": [
        "## 3. Sorting a DataFrame"
      ]
    },
    {
      "cell_type": "markdown",
      "metadata": {
        "id": "f3CnGQa1wxhx"
      },
      "source": [
        "### 3.1 Sorting by Single Column"
      ]
    },
    {
      "cell_type": "code",
      "execution_count": null,
      "metadata": {
        "id": "hGK0dmKBwxhx",
        "outputId": "b245202f-ad35-4b29-b144-a1a77b6d679e"
      },
      "outputs": [
        {
          "data": {
            "text/html": [
              "<div>\n",
              "<style scoped>\n",
              "    .dataframe tbody tr th:only-of-type {\n",
              "        vertical-align: middle;\n",
              "    }\n",
              "\n",
              "    .dataframe tbody tr th {\n",
              "        vertical-align: top;\n",
              "    }\n",
              "\n",
              "    .dataframe thead th {\n",
              "        text-align: right;\n",
              "    }\n",
              "</style>\n",
              "<table border=\"1\" class=\"dataframe\">\n",
              "  <thead>\n",
              "    <tr style=\"text-align: right;\">\n",
              "      <th></th>\n",
              "      <th>Name</th>\n",
              "      <th>Team</th>\n",
              "      <th>Position</th>\n",
              "      <th>Birthday</th>\n",
              "      <th>Salary</th>\n",
              "    </tr>\n",
              "  </thead>\n",
              "  <tbody>\n",
              "    <tr>\n",
              "      <th>52</th>\n",
              "      <td>Aaron Gordon</td>\n",
              "      <td>Orlando Magic</td>\n",
              "      <td>PF</td>\n",
              "      <td>1995-09-16</td>\n",
              "      <td>19863636</td>\n",
              "    </tr>\n",
              "    <tr>\n",
              "      <th>101</th>\n",
              "      <td>Aaron Holiday</td>\n",
              "      <td>Indiana Pacers</td>\n",
              "      <td>PG</td>\n",
              "      <td>1996-09-30</td>\n",
              "      <td>2239200</td>\n",
              "    </tr>\n",
              "    <tr>\n",
              "      <th>437</th>\n",
              "      <td>Abdel Nader</td>\n",
              "      <td>Oklahoma City Thunder</td>\n",
              "      <td>SF</td>\n",
              "      <td>1993-09-25</td>\n",
              "      <td>1618520</td>\n",
              "    </tr>\n",
              "    <tr>\n",
              "      <th>81</th>\n",
              "      <td>Adam Mokoka</td>\n",
              "      <td>Chicago Bulls</td>\n",
              "      <td>G</td>\n",
              "      <td>1998-07-18</td>\n",
              "      <td>79568</td>\n",
              "    </tr>\n",
              "    <tr>\n",
              "      <th>399</th>\n",
              "      <td>Admiral Schofield</td>\n",
              "      <td>Washington Wizards</td>\n",
              "      <td>SF</td>\n",
              "      <td>1997-03-30</td>\n",
              "      <td>1000000</td>\n",
              "    </tr>\n",
              "    <tr>\n",
              "      <th>...</th>\n",
              "      <td>...</td>\n",
              "      <td>...</td>\n",
              "      <td>...</td>\n",
              "      <td>...</td>\n",
              "      <td>...</td>\n",
              "    </tr>\n",
              "    <tr>\n",
              "      <th>159</th>\n",
              "      <td>Zach LaVine</td>\n",
              "      <td>Chicago Bulls</td>\n",
              "      <td>PG</td>\n",
              "      <td>1995-03-10</td>\n",
              "      <td>19500000</td>\n",
              "    </tr>\n",
              "    <tr>\n",
              "      <th>302</th>\n",
              "      <td>Zach Norvell</td>\n",
              "      <td>Los Angeles Lakers</td>\n",
              "      <td>SG</td>\n",
              "      <td>1997-12-09</td>\n",
              "      <td>79568</td>\n",
              "    </tr>\n",
              "    <tr>\n",
              "      <th>312</th>\n",
              "      <td>Zhaire Smith</td>\n",
              "      <td>Philadelphia 76ers</td>\n",
              "      <td>SG</td>\n",
              "      <td>1999-06-04</td>\n",
              "      <td>3058800</td>\n",
              "    </tr>\n",
              "    <tr>\n",
              "      <th>137</th>\n",
              "      <td>Zion Williamson</td>\n",
              "      <td>New Orleans Pelicans</td>\n",
              "      <td>F</td>\n",
              "      <td>2000-07-06</td>\n",
              "      <td>9757440</td>\n",
              "    </tr>\n",
              "    <tr>\n",
              "      <th>248</th>\n",
              "      <td>Zylan Cheatham</td>\n",
              "      <td>New Orleans Pelicans</td>\n",
              "      <td>SF</td>\n",
              "      <td>1995-11-17</td>\n",
              "      <td>79568</td>\n",
              "    </tr>\n",
              "  </tbody>\n",
              "</table>\n",
              "<p>450 rows × 5 columns</p>\n",
              "</div>"
            ],
            "text/plain": [
              "                  Name                   Team Position   Birthday    Salary\n",
              "52        Aaron Gordon          Orlando Magic       PF 1995-09-16  19863636\n",
              "101      Aaron Holiday         Indiana Pacers       PG 1996-09-30   2239200\n",
              "437        Abdel Nader  Oklahoma City Thunder       SF 1993-09-25   1618520\n",
              "81         Adam Mokoka          Chicago Bulls        G 1998-07-18     79568\n",
              "399  Admiral Schofield     Washington Wizards       SF 1997-03-30   1000000\n",
              "..                 ...                    ...      ...        ...       ...\n",
              "159        Zach LaVine          Chicago Bulls       PG 1995-03-10  19500000\n",
              "302       Zach Norvell     Los Angeles Lakers       SG 1997-12-09     79568\n",
              "312       Zhaire Smith     Philadelphia 76ers       SG 1999-06-04   3058800\n",
              "137    Zion Williamson   New Orleans Pelicans        F 2000-07-06   9757440\n",
              "248     Zylan Cheatham   New Orleans Pelicans       SF 1995-11-17     79568\n",
              "\n",
              "[450 rows x 5 columns]"
            ]
          },
          "execution_count": 33,
          "metadata": {},
          "output_type": "execute_result"
        }
      ],
      "source": [
        "# The two lines below are equivalent\n",
        "nba.sort_values(\"Name\")\n",
        "nba.sort_values(by = \"Name\")"
      ]
    },
    {
      "cell_type": "code",
      "execution_count": null,
      "metadata": {
        "id": "j2Aik2a6wxhy",
        "outputId": "e8b415fd-25c2-47a5-bddc-f649d2c08b8a"
      },
      "outputs": [
        {
          "data": {
            "text/html": [
              "<div>\n",
              "<style scoped>\n",
              "    .dataframe tbody tr th:only-of-type {\n",
              "        vertical-align: middle;\n",
              "    }\n",
              "\n",
              "    .dataframe tbody tr th {\n",
              "        vertical-align: top;\n",
              "    }\n",
              "\n",
              "    .dataframe thead th {\n",
              "        text-align: right;\n",
              "    }\n",
              "</style>\n",
              "<table border=\"1\" class=\"dataframe\">\n",
              "  <thead>\n",
              "    <tr style=\"text-align: right;\">\n",
              "      <th></th>\n",
              "      <th>Name</th>\n",
              "      <th>Team</th>\n",
              "      <th>Position</th>\n",
              "      <th>Birthday</th>\n",
              "      <th>Salary</th>\n",
              "    </tr>\n",
              "  </thead>\n",
              "  <tbody>\n",
              "    <tr>\n",
              "      <th>248</th>\n",
              "      <td>Zylan Cheatham</td>\n",
              "      <td>New Orleans Pelicans</td>\n",
              "      <td>SF</td>\n",
              "      <td>1995-11-17</td>\n",
              "      <td>79568</td>\n",
              "    </tr>\n",
              "    <tr>\n",
              "      <th>137</th>\n",
              "      <td>Zion Williamson</td>\n",
              "      <td>New Orleans Pelicans</td>\n",
              "      <td>F</td>\n",
              "      <td>2000-07-06</td>\n",
              "      <td>9757440</td>\n",
              "    </tr>\n",
              "    <tr>\n",
              "      <th>312</th>\n",
              "      <td>Zhaire Smith</td>\n",
              "      <td>Philadelphia 76ers</td>\n",
              "      <td>SG</td>\n",
              "      <td>1999-06-04</td>\n",
              "      <td>3058800</td>\n",
              "    </tr>\n",
              "    <tr>\n",
              "      <th>302</th>\n",
              "      <td>Zach Norvell</td>\n",
              "      <td>Los Angeles Lakers</td>\n",
              "      <td>SG</td>\n",
              "      <td>1997-12-09</td>\n",
              "      <td>79568</td>\n",
              "    </tr>\n",
              "    <tr>\n",
              "      <th>159</th>\n",
              "      <td>Zach LaVine</td>\n",
              "      <td>Chicago Bulls</td>\n",
              "      <td>PG</td>\n",
              "      <td>1995-03-10</td>\n",
              "      <td>19500000</td>\n",
              "    </tr>\n",
              "  </tbody>\n",
              "</table>\n",
              "</div>"
            ],
            "text/plain": [
              "                Name                  Team Position   Birthday    Salary\n",
              "248   Zylan Cheatham  New Orleans Pelicans       SF 1995-11-17     79568\n",
              "137  Zion Williamson  New Orleans Pelicans        F 2000-07-06   9757440\n",
              "312     Zhaire Smith    Philadelphia 76ers       SG 1999-06-04   3058800\n",
              "302     Zach Norvell    Los Angeles Lakers       SG 1997-12-09     79568\n",
              "159      Zach LaVine         Chicago Bulls       PG 1995-03-10  19500000"
            ]
          },
          "execution_count": 34,
          "metadata": {},
          "output_type": "execute_result"
        }
      ],
      "source": [
        "nba.sort_values(\"Name\", ascending = False).head()"
      ]
    },
    {
      "cell_type": "code",
      "execution_count": null,
      "metadata": {
        "id": "4jBuqlNDwxhy",
        "outputId": "a3d6d9fd-63dc-4253-b353-7a6164e976b4"
      },
      "outputs": [
        {
          "data": {
            "text/html": [
              "<div>\n",
              "<style scoped>\n",
              "    .dataframe tbody tr th:only-of-type {\n",
              "        vertical-align: middle;\n",
              "    }\n",
              "\n",
              "    .dataframe tbody tr th {\n",
              "        vertical-align: top;\n",
              "    }\n",
              "\n",
              "    .dataframe thead th {\n",
              "        text-align: right;\n",
              "    }\n",
              "</style>\n",
              "<table border=\"1\" class=\"dataframe\">\n",
              "  <thead>\n",
              "    <tr style=\"text-align: right;\">\n",
              "      <th></th>\n",
              "      <th>Name</th>\n",
              "      <th>Team</th>\n",
              "      <th>Position</th>\n",
              "      <th>Birthday</th>\n",
              "      <th>Salary</th>\n",
              "    </tr>\n",
              "  </thead>\n",
              "  <tbody>\n",
              "    <tr>\n",
              "      <th>136</th>\n",
              "      <td>Sekou Doumbouya</td>\n",
              "      <td>Detroit Pistons</td>\n",
              "      <td>SF</td>\n",
              "      <td>2000-12-23</td>\n",
              "      <td>3285120</td>\n",
              "    </tr>\n",
              "    <tr>\n",
              "      <th>432</th>\n",
              "      <td>Talen Horton-Tucker</td>\n",
              "      <td>Los Angeles Lakers</td>\n",
              "      <td>GF</td>\n",
              "      <td>2000-11-25</td>\n",
              "      <td>898310</td>\n",
              "    </tr>\n",
              "    <tr>\n",
              "      <th>137</th>\n",
              "      <td>Zion Williamson</td>\n",
              "      <td>New Orleans Pelicans</td>\n",
              "      <td>F</td>\n",
              "      <td>2000-07-06</td>\n",
              "      <td>9757440</td>\n",
              "    </tr>\n",
              "    <tr>\n",
              "      <th>313</th>\n",
              "      <td>RJ Barrett</td>\n",
              "      <td>New York Knicks</td>\n",
              "      <td>SG</td>\n",
              "      <td>2000-06-14</td>\n",
              "      <td>7839960</td>\n",
              "    </tr>\n",
              "    <tr>\n",
              "      <th>392</th>\n",
              "      <td>Jalen Lecque</td>\n",
              "      <td>Phoenix Suns</td>\n",
              "      <td>G</td>\n",
              "      <td>2000-06-13</td>\n",
              "      <td>898310</td>\n",
              "    </tr>\n",
              "  </tbody>\n",
              "</table>\n",
              "</div>"
            ],
            "text/plain": [
              "                    Name                  Team Position   Birthday   Salary\n",
              "136      Sekou Doumbouya       Detroit Pistons       SF 2000-12-23  3285120\n",
              "432  Talen Horton-Tucker    Los Angeles Lakers       GF 2000-11-25   898310\n",
              "137      Zion Williamson  New Orleans Pelicans        F 2000-07-06  9757440\n",
              "313           RJ Barrett       New York Knicks       SG 2000-06-14  7839960\n",
              "392         Jalen Lecque          Phoenix Suns        G 2000-06-13   898310"
            ]
          },
          "execution_count": 35,
          "metadata": {},
          "output_type": "execute_result"
        }
      ],
      "source": [
        "nba.sort_values(\"Birthday\", ascending = False).head()"
      ]
    },
    {
      "cell_type": "markdown",
      "metadata": {
        "id": "rYRnWvuiwxhz"
      },
      "source": [
        "### 4.2 Sorting by Multiple Columns"
      ]
    },
    {
      "cell_type": "code",
      "execution_count": null,
      "metadata": {
        "id": "F21BPsvRwxhz",
        "outputId": "896aa133-a77b-463f-8f39-034d569dd2e2"
      },
      "outputs": [
        {
          "data": {
            "text/html": [
              "<div>\n",
              "<style scoped>\n",
              "    .dataframe tbody tr th:only-of-type {\n",
              "        vertical-align: middle;\n",
              "    }\n",
              "\n",
              "    .dataframe tbody tr th {\n",
              "        vertical-align: top;\n",
              "    }\n",
              "\n",
              "    .dataframe thead th {\n",
              "        text-align: right;\n",
              "    }\n",
              "</style>\n",
              "<table border=\"1\" class=\"dataframe\">\n",
              "  <thead>\n",
              "    <tr style=\"text-align: right;\">\n",
              "      <th></th>\n",
              "      <th>Name</th>\n",
              "      <th>Team</th>\n",
              "      <th>Position</th>\n",
              "      <th>Birthday</th>\n",
              "      <th>Salary</th>\n",
              "    </tr>\n",
              "  </thead>\n",
              "  <tbody>\n",
              "    <tr>\n",
              "      <th>359</th>\n",
              "      <td>Alex Len</td>\n",
              "      <td>Atlanta Hawks</td>\n",
              "      <td>C</td>\n",
              "      <td>1993-06-16</td>\n",
              "      <td>4160000</td>\n",
              "    </tr>\n",
              "    <tr>\n",
              "      <th>167</th>\n",
              "      <td>Allen Crabbe</td>\n",
              "      <td>Atlanta Hawks</td>\n",
              "      <td>SG</td>\n",
              "      <td>1992-04-09</td>\n",
              "      <td>18500000</td>\n",
              "    </tr>\n",
              "    <tr>\n",
              "      <th>276</th>\n",
              "      <td>Brandon Goodwin</td>\n",
              "      <td>Atlanta Hawks</td>\n",
              "      <td>PG</td>\n",
              "      <td>1995-10-02</td>\n",
              "      <td>79568</td>\n",
              "    </tr>\n",
              "    <tr>\n",
              "      <th>438</th>\n",
              "      <td>Bruno Fernando</td>\n",
              "      <td>Atlanta Hawks</td>\n",
              "      <td>C</td>\n",
              "      <td>1998-08-15</td>\n",
              "      <td>1400000</td>\n",
              "    </tr>\n",
              "    <tr>\n",
              "      <th>194</th>\n",
              "      <td>Cam Reddish</td>\n",
              "      <td>Atlanta Hawks</td>\n",
              "      <td>SF</td>\n",
              "      <td>1999-09-01</td>\n",
              "      <td>4245720</td>\n",
              "    </tr>\n",
              "    <tr>\n",
              "      <th>...</th>\n",
              "      <td>...</td>\n",
              "      <td>...</td>\n",
              "      <td>...</td>\n",
              "      <td>...</td>\n",
              "      <td>...</td>\n",
              "    </tr>\n",
              "    <tr>\n",
              "      <th>418</th>\n",
              "      <td>Jordan McRae</td>\n",
              "      <td>Washington Wizards</td>\n",
              "      <td>PG</td>\n",
              "      <td>1991-03-28</td>\n",
              "      <td>1645357</td>\n",
              "    </tr>\n",
              "    <tr>\n",
              "      <th>273</th>\n",
              "      <td>Justin Robinson</td>\n",
              "      <td>Washington Wizards</td>\n",
              "      <td>PG</td>\n",
              "      <td>1997-10-12</td>\n",
              "      <td>898310</td>\n",
              "    </tr>\n",
              "    <tr>\n",
              "      <th>428</th>\n",
              "      <td>Moritz Wagner</td>\n",
              "      <td>Washington Wizards</td>\n",
              "      <td>C</td>\n",
              "      <td>1997-04-26</td>\n",
              "      <td>2063520</td>\n",
              "    </tr>\n",
              "    <tr>\n",
              "      <th>21</th>\n",
              "      <td>Rui Hachimura</td>\n",
              "      <td>Washington Wizards</td>\n",
              "      <td>PF</td>\n",
              "      <td>1998-02-08</td>\n",
              "      <td>4469160</td>\n",
              "    </tr>\n",
              "    <tr>\n",
              "      <th>36</th>\n",
              "      <td>Thomas Bryant</td>\n",
              "      <td>Washington Wizards</td>\n",
              "      <td>C</td>\n",
              "      <td>1997-07-31</td>\n",
              "      <td>8000000</td>\n",
              "    </tr>\n",
              "  </tbody>\n",
              "</table>\n",
              "<p>450 rows × 5 columns</p>\n",
              "</div>"
            ],
            "text/plain": [
              "                Name                Team Position   Birthday    Salary\n",
              "359         Alex Len       Atlanta Hawks        C 1993-06-16   4160000\n",
              "167     Allen Crabbe       Atlanta Hawks       SG 1992-04-09  18500000\n",
              "276  Brandon Goodwin       Atlanta Hawks       PG 1995-10-02     79568\n",
              "438   Bruno Fernando       Atlanta Hawks        C 1998-08-15   1400000\n",
              "194      Cam Reddish       Atlanta Hawks       SF 1999-09-01   4245720\n",
              "..               ...                 ...      ...        ...       ...\n",
              "418     Jordan McRae  Washington Wizards       PG 1991-03-28   1645357\n",
              "273  Justin Robinson  Washington Wizards       PG 1997-10-12    898310\n",
              "428    Moritz Wagner  Washington Wizards        C 1997-04-26   2063520\n",
              "21     Rui Hachimura  Washington Wizards       PF 1998-02-08   4469160\n",
              "36     Thomas Bryant  Washington Wizards        C 1997-07-31   8000000\n",
              "\n",
              "[450 rows x 5 columns]"
            ]
          },
          "execution_count": 36,
          "metadata": {},
          "output_type": "execute_result"
        }
      ],
      "source": [
        "nba.sort_values(by = [\"Team\", \"Name\"])"
      ]
    },
    {
      "cell_type": "code",
      "execution_count": null,
      "metadata": {
        "id": "K_T-1fmgwxhz",
        "outputId": "4e78c6a0-2496-4d3b-fcb1-e9559b7d28c4"
      },
      "outputs": [
        {
          "data": {
            "text/html": [
              "<div>\n",
              "<style scoped>\n",
              "    .dataframe tbody tr th:only-of-type {\n",
              "        vertical-align: middle;\n",
              "    }\n",
              "\n",
              "    .dataframe tbody tr th {\n",
              "        vertical-align: top;\n",
              "    }\n",
              "\n",
              "    .dataframe thead th {\n",
              "        text-align: right;\n",
              "    }\n",
              "</style>\n",
              "<table border=\"1\" class=\"dataframe\">\n",
              "  <thead>\n",
              "    <tr style=\"text-align: right;\">\n",
              "      <th></th>\n",
              "      <th>Name</th>\n",
              "      <th>Team</th>\n",
              "      <th>Position</th>\n",
              "      <th>Birthday</th>\n",
              "      <th>Salary</th>\n",
              "    </tr>\n",
              "  </thead>\n",
              "  <tbody>\n",
              "    <tr>\n",
              "      <th>36</th>\n",
              "      <td>Thomas Bryant</td>\n",
              "      <td>Washington Wizards</td>\n",
              "      <td>C</td>\n",
              "      <td>1997-07-31</td>\n",
              "      <td>8000000</td>\n",
              "    </tr>\n",
              "    <tr>\n",
              "      <th>21</th>\n",
              "      <td>Rui Hachimura</td>\n",
              "      <td>Washington Wizards</td>\n",
              "      <td>PF</td>\n",
              "      <td>1998-02-08</td>\n",
              "      <td>4469160</td>\n",
              "    </tr>\n",
              "    <tr>\n",
              "      <th>428</th>\n",
              "      <td>Moritz Wagner</td>\n",
              "      <td>Washington Wizards</td>\n",
              "      <td>C</td>\n",
              "      <td>1997-04-26</td>\n",
              "      <td>2063520</td>\n",
              "    </tr>\n",
              "    <tr>\n",
              "      <th>273</th>\n",
              "      <td>Justin Robinson</td>\n",
              "      <td>Washington Wizards</td>\n",
              "      <td>PG</td>\n",
              "      <td>1997-10-12</td>\n",
              "      <td>898310</td>\n",
              "    </tr>\n",
              "    <tr>\n",
              "      <th>418</th>\n",
              "      <td>Jordan McRae</td>\n",
              "      <td>Washington Wizards</td>\n",
              "      <td>PG</td>\n",
              "      <td>1991-03-28</td>\n",
              "      <td>1645357</td>\n",
              "    </tr>\n",
              "    <tr>\n",
              "      <th>...</th>\n",
              "      <td>...</td>\n",
              "      <td>...</td>\n",
              "      <td>...</td>\n",
              "      <td>...</td>\n",
              "      <td>...</td>\n",
              "    </tr>\n",
              "    <tr>\n",
              "      <th>194</th>\n",
              "      <td>Cam Reddish</td>\n",
              "      <td>Atlanta Hawks</td>\n",
              "      <td>SF</td>\n",
              "      <td>1999-09-01</td>\n",
              "      <td>4245720</td>\n",
              "    </tr>\n",
              "    <tr>\n",
              "      <th>438</th>\n",
              "      <td>Bruno Fernando</td>\n",
              "      <td>Atlanta Hawks</td>\n",
              "      <td>C</td>\n",
              "      <td>1998-08-15</td>\n",
              "      <td>1400000</td>\n",
              "    </tr>\n",
              "    <tr>\n",
              "      <th>276</th>\n",
              "      <td>Brandon Goodwin</td>\n",
              "      <td>Atlanta Hawks</td>\n",
              "      <td>PG</td>\n",
              "      <td>1995-10-02</td>\n",
              "      <td>79568</td>\n",
              "    </tr>\n",
              "    <tr>\n",
              "      <th>167</th>\n",
              "      <td>Allen Crabbe</td>\n",
              "      <td>Atlanta Hawks</td>\n",
              "      <td>SG</td>\n",
              "      <td>1992-04-09</td>\n",
              "      <td>18500000</td>\n",
              "    </tr>\n",
              "    <tr>\n",
              "      <th>359</th>\n",
              "      <td>Alex Len</td>\n",
              "      <td>Atlanta Hawks</td>\n",
              "      <td>C</td>\n",
              "      <td>1993-06-16</td>\n",
              "      <td>4160000</td>\n",
              "    </tr>\n",
              "  </tbody>\n",
              "</table>\n",
              "<p>450 rows × 5 columns</p>\n",
              "</div>"
            ],
            "text/plain": [
              "                Name                Team Position   Birthday    Salary\n",
              "36     Thomas Bryant  Washington Wizards        C 1997-07-31   8000000\n",
              "21     Rui Hachimura  Washington Wizards       PF 1998-02-08   4469160\n",
              "428    Moritz Wagner  Washington Wizards        C 1997-04-26   2063520\n",
              "273  Justin Robinson  Washington Wizards       PG 1997-10-12    898310\n",
              "418     Jordan McRae  Washington Wizards       PG 1991-03-28   1645357\n",
              "..               ...                 ...      ...        ...       ...\n",
              "194      Cam Reddish       Atlanta Hawks       SF 1999-09-01   4245720\n",
              "438   Bruno Fernando       Atlanta Hawks        C 1998-08-15   1400000\n",
              "276  Brandon Goodwin       Atlanta Hawks       PG 1995-10-02     79568\n",
              "167     Allen Crabbe       Atlanta Hawks       SG 1992-04-09  18500000\n",
              "359         Alex Len       Atlanta Hawks        C 1993-06-16   4160000\n",
              "\n",
              "[450 rows x 5 columns]"
            ]
          },
          "execution_count": 37,
          "metadata": {},
          "output_type": "execute_result"
        }
      ],
      "source": [
        "nba.sort_values([\"Team\", \"Name\"], ascending = False)"
      ]
    },
    {
      "cell_type": "code",
      "execution_count": null,
      "metadata": {
        "id": "YFvpjvHVwxhz",
        "outputId": "ebfa83ca-567c-4344-e6b6-f41f07887d6e"
      },
      "outputs": [
        {
          "data": {
            "text/html": [
              "<div>\n",
              "<style scoped>\n",
              "    .dataframe tbody tr th:only-of-type {\n",
              "        vertical-align: middle;\n",
              "    }\n",
              "\n",
              "    .dataframe tbody tr th {\n",
              "        vertical-align: top;\n",
              "    }\n",
              "\n",
              "    .dataframe thead th {\n",
              "        text-align: right;\n",
              "    }\n",
              "</style>\n",
              "<table border=\"1\" class=\"dataframe\">\n",
              "  <thead>\n",
              "    <tr style=\"text-align: right;\">\n",
              "      <th></th>\n",
              "      <th>Name</th>\n",
              "      <th>Team</th>\n",
              "      <th>Position</th>\n",
              "      <th>Birthday</th>\n",
              "      <th>Salary</th>\n",
              "    </tr>\n",
              "  </thead>\n",
              "  <tbody>\n",
              "    <tr>\n",
              "      <th>111</th>\n",
              "      <td>Chandler Parsons</td>\n",
              "      <td>Atlanta Hawks</td>\n",
              "      <td>SF</td>\n",
              "      <td>1988-10-25</td>\n",
              "      <td>25102512</td>\n",
              "    </tr>\n",
              "    <tr>\n",
              "      <th>28</th>\n",
              "      <td>Evan Turner</td>\n",
              "      <td>Atlanta Hawks</td>\n",
              "      <td>PG</td>\n",
              "      <td>1988-10-27</td>\n",
              "      <td>18606556</td>\n",
              "    </tr>\n",
              "    <tr>\n",
              "      <th>167</th>\n",
              "      <td>Allen Crabbe</td>\n",
              "      <td>Atlanta Hawks</td>\n",
              "      <td>SG</td>\n",
              "      <td>1992-04-09</td>\n",
              "      <td>18500000</td>\n",
              "    </tr>\n",
              "    <tr>\n",
              "      <th>213</th>\n",
              "      <td>De'Andre Hunter</td>\n",
              "      <td>Atlanta Hawks</td>\n",
              "      <td>SF</td>\n",
              "      <td>1997-12-02</td>\n",
              "      <td>7068360</td>\n",
              "    </tr>\n",
              "    <tr>\n",
              "      <th>339</th>\n",
              "      <td>Jabari Parker</td>\n",
              "      <td>Atlanta Hawks</td>\n",
              "      <td>PF</td>\n",
              "      <td>1995-03-15</td>\n",
              "      <td>6500000</td>\n",
              "    </tr>\n",
              "    <tr>\n",
              "      <th>...</th>\n",
              "      <td>...</td>\n",
              "      <td>...</td>\n",
              "      <td>...</td>\n",
              "      <td>...</td>\n",
              "      <td>...</td>\n",
              "    </tr>\n",
              "    <tr>\n",
              "      <th>80</th>\n",
              "      <td>Isaac Bonga</td>\n",
              "      <td>Washington Wizards</td>\n",
              "      <td>PG</td>\n",
              "      <td>1999-11-08</td>\n",
              "      <td>1416852</td>\n",
              "    </tr>\n",
              "    <tr>\n",
              "      <th>399</th>\n",
              "      <td>Admiral Schofield</td>\n",
              "      <td>Washington Wizards</td>\n",
              "      <td>SF</td>\n",
              "      <td>1997-03-30</td>\n",
              "      <td>1000000</td>\n",
              "    </tr>\n",
              "    <tr>\n",
              "      <th>273</th>\n",
              "      <td>Justin Robinson</td>\n",
              "      <td>Washington Wizards</td>\n",
              "      <td>PG</td>\n",
              "      <td>1997-10-12</td>\n",
              "      <td>898310</td>\n",
              "    </tr>\n",
              "    <tr>\n",
              "      <th>283</th>\n",
              "      <td>Garrison Mathews</td>\n",
              "      <td>Washington Wizards</td>\n",
              "      <td>SG</td>\n",
              "      <td>1996-10-24</td>\n",
              "      <td>79568</td>\n",
              "    </tr>\n",
              "    <tr>\n",
              "      <th>353</th>\n",
              "      <td>Chris Chiozza</td>\n",
              "      <td>Washington Wizards</td>\n",
              "      <td>PG</td>\n",
              "      <td>1995-11-21</td>\n",
              "      <td>79568</td>\n",
              "    </tr>\n",
              "  </tbody>\n",
              "</table>\n",
              "<p>450 rows × 5 columns</p>\n",
              "</div>"
            ],
            "text/plain": [
              "                  Name                Team Position   Birthday    Salary\n",
              "111   Chandler Parsons       Atlanta Hawks       SF 1988-10-25  25102512\n",
              "28         Evan Turner       Atlanta Hawks       PG 1988-10-27  18606556\n",
              "167       Allen Crabbe       Atlanta Hawks       SG 1992-04-09  18500000\n",
              "213    De'Andre Hunter       Atlanta Hawks       SF 1997-12-02   7068360\n",
              "339      Jabari Parker       Atlanta Hawks       PF 1995-03-15   6500000\n",
              "..                 ...                 ...      ...        ...       ...\n",
              "80         Isaac Bonga  Washington Wizards       PG 1999-11-08   1416852\n",
              "399  Admiral Schofield  Washington Wizards       SF 1997-03-30   1000000\n",
              "273    Justin Robinson  Washington Wizards       PG 1997-10-12    898310\n",
              "283   Garrison Mathews  Washington Wizards       SG 1996-10-24     79568\n",
              "353      Chris Chiozza  Washington Wizards       PG 1995-11-21     79568\n",
              "\n",
              "[450 rows x 5 columns]"
            ]
          },
          "execution_count": 38,
          "metadata": {},
          "output_type": "execute_result"
        }
      ],
      "source": [
        "nba.sort_values(\n",
        "    by = [\"Team\", \"Salary\"], ascending = [True, False]\n",
        ")"
      ]
    },
    {
      "cell_type": "code",
      "execution_count": null,
      "metadata": {
        "id": "UKlQEtz9wxhz"
      },
      "outputs": [],
      "source": [
        "nba = nba.sort_values(\n",
        "    by = [\"Team\", \"Salary\"],\n",
        "    ascending = [True, False]\n",
        ")"
      ]
    },
    {
      "cell_type": "markdown",
      "metadata": {
        "id": "tU9okiz3wxhz"
      },
      "source": [
        "## 5 Sorting by Index"
      ]
    },
    {
      "cell_type": "code",
      "execution_count": null,
      "metadata": {
        "id": "WGTO_Jldwxhz",
        "outputId": "4d89699b-adae-4b92-92ad-c0a04aa0e0d4"
      },
      "outputs": [
        {
          "data": {
            "text/html": [
              "<div>\n",
              "<style scoped>\n",
              "    .dataframe tbody tr th:only-of-type {\n",
              "        vertical-align: middle;\n",
              "    }\n",
              "\n",
              "    .dataframe tbody tr th {\n",
              "        vertical-align: top;\n",
              "    }\n",
              "\n",
              "    .dataframe thead th {\n",
              "        text-align: right;\n",
              "    }\n",
              "</style>\n",
              "<table border=\"1\" class=\"dataframe\">\n",
              "  <thead>\n",
              "    <tr style=\"text-align: right;\">\n",
              "      <th></th>\n",
              "      <th>Name</th>\n",
              "      <th>Team</th>\n",
              "      <th>Position</th>\n",
              "      <th>Birthday</th>\n",
              "      <th>Salary</th>\n",
              "    </tr>\n",
              "  </thead>\n",
              "  <tbody>\n",
              "    <tr>\n",
              "      <th>111</th>\n",
              "      <td>Chandler Parsons</td>\n",
              "      <td>Atlanta Hawks</td>\n",
              "      <td>SF</td>\n",
              "      <td>1988-10-25</td>\n",
              "      <td>25102512</td>\n",
              "    </tr>\n",
              "    <tr>\n",
              "      <th>28</th>\n",
              "      <td>Evan Turner</td>\n",
              "      <td>Atlanta Hawks</td>\n",
              "      <td>PG</td>\n",
              "      <td>1988-10-27</td>\n",
              "      <td>18606556</td>\n",
              "    </tr>\n",
              "    <tr>\n",
              "      <th>167</th>\n",
              "      <td>Allen Crabbe</td>\n",
              "      <td>Atlanta Hawks</td>\n",
              "      <td>SG</td>\n",
              "      <td>1992-04-09</td>\n",
              "      <td>18500000</td>\n",
              "    </tr>\n",
              "    <tr>\n",
              "      <th>213</th>\n",
              "      <td>De'Andre Hunter</td>\n",
              "      <td>Atlanta Hawks</td>\n",
              "      <td>SF</td>\n",
              "      <td>1997-12-02</td>\n",
              "      <td>7068360</td>\n",
              "    </tr>\n",
              "    <tr>\n",
              "      <th>339</th>\n",
              "      <td>Jabari Parker</td>\n",
              "      <td>Atlanta Hawks</td>\n",
              "      <td>PF</td>\n",
              "      <td>1995-03-15</td>\n",
              "      <td>6500000</td>\n",
              "    </tr>\n",
              "  </tbody>\n",
              "</table>\n",
              "</div>"
            ],
            "text/plain": [
              "                 Name           Team Position   Birthday    Salary\n",
              "111  Chandler Parsons  Atlanta Hawks       SF 1988-10-25  25102512\n",
              "28        Evan Turner  Atlanta Hawks       PG 1988-10-27  18606556\n",
              "167      Allen Crabbe  Atlanta Hawks       SG 1992-04-09  18500000\n",
              "213   De'Andre Hunter  Atlanta Hawks       SF 1997-12-02   7068360\n",
              "339     Jabari Parker  Atlanta Hawks       PF 1995-03-15   6500000"
            ]
          },
          "execution_count": 40,
          "metadata": {},
          "output_type": "execute_result"
        }
      ],
      "source": [
        "nba.head()"
      ]
    },
    {
      "cell_type": "markdown",
      "metadata": {
        "id": "7uwGcm5bwxh0"
      },
      "source": [
        "### 5.1 Sorting by Row Index"
      ]
    },
    {
      "cell_type": "code",
      "execution_count": null,
      "metadata": {
        "id": "vmONZvC8wxh0",
        "outputId": "2ccf7269-5028-4813-9920-4cb589f48085"
      },
      "outputs": [
        {
          "data": {
            "text/html": [
              "<div>\n",
              "<style scoped>\n",
              "    .dataframe tbody tr th:only-of-type {\n",
              "        vertical-align: middle;\n",
              "    }\n",
              "\n",
              "    .dataframe tbody tr th {\n",
              "        vertical-align: top;\n",
              "    }\n",
              "\n",
              "    .dataframe thead th {\n",
              "        text-align: right;\n",
              "    }\n",
              "</style>\n",
              "<table border=\"1\" class=\"dataframe\">\n",
              "  <thead>\n",
              "    <tr style=\"text-align: right;\">\n",
              "      <th></th>\n",
              "      <th>Name</th>\n",
              "      <th>Team</th>\n",
              "      <th>Position</th>\n",
              "      <th>Birthday</th>\n",
              "      <th>Salary</th>\n",
              "    </tr>\n",
              "  </thead>\n",
              "  <tbody>\n",
              "    <tr>\n",
              "      <th>0</th>\n",
              "      <td>Shake Milton</td>\n",
              "      <td>Philadelphia 76ers</td>\n",
              "      <td>SG</td>\n",
              "      <td>1996-09-26</td>\n",
              "      <td>1445697</td>\n",
              "    </tr>\n",
              "    <tr>\n",
              "      <th>1</th>\n",
              "      <td>Christian Wood</td>\n",
              "      <td>Detroit Pistons</td>\n",
              "      <td>PF</td>\n",
              "      <td>1995-09-27</td>\n",
              "      <td>1645357</td>\n",
              "    </tr>\n",
              "    <tr>\n",
              "      <th>2</th>\n",
              "      <td>PJ Washington</td>\n",
              "      <td>Charlotte Hornets</td>\n",
              "      <td>PF</td>\n",
              "      <td>1998-08-23</td>\n",
              "      <td>3831840</td>\n",
              "    </tr>\n",
              "    <tr>\n",
              "      <th>3</th>\n",
              "      <td>Derrick Rose</td>\n",
              "      <td>Detroit Pistons</td>\n",
              "      <td>PG</td>\n",
              "      <td>1988-10-04</td>\n",
              "      <td>7317074</td>\n",
              "    </tr>\n",
              "    <tr>\n",
              "      <th>4</th>\n",
              "      <td>Marial Shayok</td>\n",
              "      <td>Philadelphia 76ers</td>\n",
              "      <td>G</td>\n",
              "      <td>1995-07-26</td>\n",
              "      <td>79568</td>\n",
              "    </tr>\n",
              "  </tbody>\n",
              "</table>\n",
              "</div>"
            ],
            "text/plain": [
              "             Name                Team Position   Birthday   Salary\n",
              "0    Shake Milton  Philadelphia 76ers       SG 1996-09-26  1445697\n",
              "1  Christian Wood     Detroit Pistons       PF 1995-09-27  1645357\n",
              "2   PJ Washington   Charlotte Hornets       PF 1998-08-23  3831840\n",
              "3    Derrick Rose     Detroit Pistons       PG 1988-10-04  7317074\n",
              "4   Marial Shayok  Philadelphia 76ers        G 1995-07-26    79568"
            ]
          },
          "execution_count": 41,
          "metadata": {},
          "output_type": "execute_result"
        }
      ],
      "source": [
        "# The two lines below are equivalent\n",
        "nba.sort_index().head()\n",
        "nba.sort_index(ascending = True).head()"
      ]
    },
    {
      "cell_type": "code",
      "execution_count": null,
      "metadata": {
        "id": "PuB51Tjjwxh0",
        "outputId": "dd416327-84e7-40b8-eace-c7e1247ace1a"
      },
      "outputs": [
        {
          "data": {
            "text/html": [
              "<div>\n",
              "<style scoped>\n",
              "    .dataframe tbody tr th:only-of-type {\n",
              "        vertical-align: middle;\n",
              "    }\n",
              "\n",
              "    .dataframe tbody tr th {\n",
              "        vertical-align: top;\n",
              "    }\n",
              "\n",
              "    .dataframe thead th {\n",
              "        text-align: right;\n",
              "    }\n",
              "</style>\n",
              "<table border=\"1\" class=\"dataframe\">\n",
              "  <thead>\n",
              "    <tr style=\"text-align: right;\">\n",
              "      <th></th>\n",
              "      <th>Name</th>\n",
              "      <th>Team</th>\n",
              "      <th>Position</th>\n",
              "      <th>Birthday</th>\n",
              "      <th>Salary</th>\n",
              "    </tr>\n",
              "  </thead>\n",
              "  <tbody>\n",
              "    <tr>\n",
              "      <th>449</th>\n",
              "      <td>Ricky Rubio</td>\n",
              "      <td>Phoenix Suns</td>\n",
              "      <td>PG</td>\n",
              "      <td>1990-10-21</td>\n",
              "      <td>16200000</td>\n",
              "    </tr>\n",
              "    <tr>\n",
              "      <th>448</th>\n",
              "      <td>Collin Sexton</td>\n",
              "      <td>Cleveland Cavaliers</td>\n",
              "      <td>PG</td>\n",
              "      <td>1999-01-04</td>\n",
              "      <td>4764960</td>\n",
              "    </tr>\n",
              "    <tr>\n",
              "      <th>447</th>\n",
              "      <td>Robin Lopez</td>\n",
              "      <td>Milwaukee Bucks</td>\n",
              "      <td>C</td>\n",
              "      <td>1988-04-01</td>\n",
              "      <td>4767000</td>\n",
              "    </tr>\n",
              "    <tr>\n",
              "      <th>446</th>\n",
              "      <td>Harry Giles</td>\n",
              "      <td>Sacramento Kings</td>\n",
              "      <td>PF</td>\n",
              "      <td>1998-04-22</td>\n",
              "      <td>2578800</td>\n",
              "    </tr>\n",
              "    <tr>\n",
              "      <th>445</th>\n",
              "      <td>Austin Rivers</td>\n",
              "      <td>Houston Rockets</td>\n",
              "      <td>PG</td>\n",
              "      <td>1992-08-01</td>\n",
              "      <td>2174310</td>\n",
              "    </tr>\n",
              "  </tbody>\n",
              "</table>\n",
              "</div>"
            ],
            "text/plain": [
              "              Name                 Team Position   Birthday    Salary\n",
              "449    Ricky Rubio         Phoenix Suns       PG 1990-10-21  16200000\n",
              "448  Collin Sexton  Cleveland Cavaliers       PG 1999-01-04   4764960\n",
              "447    Robin Lopez      Milwaukee Bucks        C 1988-04-01   4767000\n",
              "446    Harry Giles     Sacramento Kings       PF 1998-04-22   2578800\n",
              "445  Austin Rivers      Houston Rockets       PG 1992-08-01   2174310"
            ]
          },
          "execution_count": 42,
          "metadata": {},
          "output_type": "execute_result"
        }
      ],
      "source": [
        "nba.sort_index(ascending = False).head()"
      ]
    },
    {
      "cell_type": "code",
      "execution_count": null,
      "metadata": {
        "id": "HR6sjIycwxh0"
      },
      "outputs": [],
      "source": [
        "nba = nba.sort_index()"
      ]
    },
    {
      "cell_type": "markdown",
      "metadata": {
        "id": "eWktmnA1wxh0"
      },
      "source": [
        "### 5.2 Sorting by Column Index"
      ]
    },
    {
      "cell_type": "code",
      "execution_count": null,
      "metadata": {
        "id": "V1ptYZ7iwxh0",
        "outputId": "f06dd29c-5378-46cf-d7c3-26a80efb3505"
      },
      "outputs": [
        {
          "data": {
            "text/html": [
              "<div>\n",
              "<style scoped>\n",
              "    .dataframe tbody tr th:only-of-type {\n",
              "        vertical-align: middle;\n",
              "    }\n",
              "\n",
              "    .dataframe tbody tr th {\n",
              "        vertical-align: top;\n",
              "    }\n",
              "\n",
              "    .dataframe thead th {\n",
              "        text-align: right;\n",
              "    }\n",
              "</style>\n",
              "<table border=\"1\" class=\"dataframe\">\n",
              "  <thead>\n",
              "    <tr style=\"text-align: right;\">\n",
              "      <th></th>\n",
              "      <th>Birthday</th>\n",
              "      <th>Name</th>\n",
              "      <th>Position</th>\n",
              "      <th>Salary</th>\n",
              "      <th>Team</th>\n",
              "    </tr>\n",
              "  </thead>\n",
              "  <tbody>\n",
              "    <tr>\n",
              "      <th>0</th>\n",
              "      <td>1996-09-26</td>\n",
              "      <td>Shake Milton</td>\n",
              "      <td>SG</td>\n",
              "      <td>1445697</td>\n",
              "      <td>Philadelphia 76ers</td>\n",
              "    </tr>\n",
              "    <tr>\n",
              "      <th>1</th>\n",
              "      <td>1995-09-27</td>\n",
              "      <td>Christian Wood</td>\n",
              "      <td>PF</td>\n",
              "      <td>1645357</td>\n",
              "      <td>Detroit Pistons</td>\n",
              "    </tr>\n",
              "    <tr>\n",
              "      <th>2</th>\n",
              "      <td>1998-08-23</td>\n",
              "      <td>PJ Washington</td>\n",
              "      <td>PF</td>\n",
              "      <td>3831840</td>\n",
              "      <td>Charlotte Hornets</td>\n",
              "    </tr>\n",
              "    <tr>\n",
              "      <th>3</th>\n",
              "      <td>1988-10-04</td>\n",
              "      <td>Derrick Rose</td>\n",
              "      <td>PG</td>\n",
              "      <td>7317074</td>\n",
              "      <td>Detroit Pistons</td>\n",
              "    </tr>\n",
              "    <tr>\n",
              "      <th>4</th>\n",
              "      <td>1995-07-26</td>\n",
              "      <td>Marial Shayok</td>\n",
              "      <td>G</td>\n",
              "      <td>79568</td>\n",
              "      <td>Philadelphia 76ers</td>\n",
              "    </tr>\n",
              "  </tbody>\n",
              "</table>\n",
              "</div>"
            ],
            "text/plain": [
              "    Birthday            Name Position   Salary                Team\n",
              "0 1996-09-26    Shake Milton       SG  1445697  Philadelphia 76ers\n",
              "1 1995-09-27  Christian Wood       PF  1645357     Detroit Pistons\n",
              "2 1998-08-23   PJ Washington       PF  3831840   Charlotte Hornets\n",
              "3 1988-10-04    Derrick Rose       PG  7317074     Detroit Pistons\n",
              "4 1995-07-26   Marial Shayok        G    79568  Philadelphia 76ers"
            ]
          },
          "execution_count": 44,
          "metadata": {},
          "output_type": "execute_result"
        }
      ],
      "source": [
        "# The two lines below are equivalent\n",
        "nba.sort_index(axis = \"columns\").head()\n",
        "nba.sort_index(axis = 1).head()"
      ]
    },
    {
      "cell_type": "code",
      "execution_count": null,
      "metadata": {
        "id": "SRzt_AYAwxh0",
        "outputId": "a1f09eee-6455-497e-dc0d-0c305feba19b"
      },
      "outputs": [
        {
          "data": {
            "text/html": [
              "<div>\n",
              "<style scoped>\n",
              "    .dataframe tbody tr th:only-of-type {\n",
              "        vertical-align: middle;\n",
              "    }\n",
              "\n",
              "    .dataframe tbody tr th {\n",
              "        vertical-align: top;\n",
              "    }\n",
              "\n",
              "    .dataframe thead th {\n",
              "        text-align: right;\n",
              "    }\n",
              "</style>\n",
              "<table border=\"1\" class=\"dataframe\">\n",
              "  <thead>\n",
              "    <tr style=\"text-align: right;\">\n",
              "      <th></th>\n",
              "      <th>Team</th>\n",
              "      <th>Salary</th>\n",
              "      <th>Position</th>\n",
              "      <th>Name</th>\n",
              "      <th>Birthday</th>\n",
              "    </tr>\n",
              "  </thead>\n",
              "  <tbody>\n",
              "    <tr>\n",
              "      <th>0</th>\n",
              "      <td>Philadelphia 76ers</td>\n",
              "      <td>1445697</td>\n",
              "      <td>SG</td>\n",
              "      <td>Shake Milton</td>\n",
              "      <td>1996-09-26</td>\n",
              "    </tr>\n",
              "    <tr>\n",
              "      <th>1</th>\n",
              "      <td>Detroit Pistons</td>\n",
              "      <td>1645357</td>\n",
              "      <td>PF</td>\n",
              "      <td>Christian Wood</td>\n",
              "      <td>1995-09-27</td>\n",
              "    </tr>\n",
              "    <tr>\n",
              "      <th>2</th>\n",
              "      <td>Charlotte Hornets</td>\n",
              "      <td>3831840</td>\n",
              "      <td>PF</td>\n",
              "      <td>PJ Washington</td>\n",
              "      <td>1998-08-23</td>\n",
              "    </tr>\n",
              "    <tr>\n",
              "      <th>3</th>\n",
              "      <td>Detroit Pistons</td>\n",
              "      <td>7317074</td>\n",
              "      <td>PG</td>\n",
              "      <td>Derrick Rose</td>\n",
              "      <td>1988-10-04</td>\n",
              "    </tr>\n",
              "    <tr>\n",
              "      <th>4</th>\n",
              "      <td>Philadelphia 76ers</td>\n",
              "      <td>79568</td>\n",
              "      <td>G</td>\n",
              "      <td>Marial Shayok</td>\n",
              "      <td>1995-07-26</td>\n",
              "    </tr>\n",
              "  </tbody>\n",
              "</table>\n",
              "</div>"
            ],
            "text/plain": [
              "                 Team   Salary Position            Name   Birthday\n",
              "0  Philadelphia 76ers  1445697       SG    Shake Milton 1996-09-26\n",
              "1     Detroit Pistons  1645357       PF  Christian Wood 1995-09-27\n",
              "2   Charlotte Hornets  3831840       PF   PJ Washington 1998-08-23\n",
              "3     Detroit Pistons  7317074       PG    Derrick Rose 1988-10-04\n",
              "4  Philadelphia 76ers    79568        G   Marial Shayok 1995-07-26"
            ]
          },
          "execution_count": 45,
          "metadata": {},
          "output_type": "execute_result"
        }
      ],
      "source": [
        "nba.sort_index(axis = \"columns\", ascending = False).head()"
      ]
    },
    {
      "cell_type": "markdown",
      "metadata": {
        "id": "sQvKjqaGwxh1"
      },
      "source": [
        "## 5.3 Setting a New Index"
      ]
    },
    {
      "cell_type": "code",
      "execution_count": null,
      "metadata": {
        "id": "2GvNn2UTwxh1",
        "outputId": "a7bb4108-ba62-4d96-9d0b-ac3f0c39487f"
      },
      "outputs": [
        {
          "data": {
            "text/html": [
              "<div>\n",
              "<style scoped>\n",
              "    .dataframe tbody tr th:only-of-type {\n",
              "        vertical-align: middle;\n",
              "    }\n",
              "\n",
              "    .dataframe tbody tr th {\n",
              "        vertical-align: top;\n",
              "    }\n",
              "\n",
              "    .dataframe thead th {\n",
              "        text-align: right;\n",
              "    }\n",
              "</style>\n",
              "<table border=\"1\" class=\"dataframe\">\n",
              "  <thead>\n",
              "    <tr style=\"text-align: right;\">\n",
              "      <th></th>\n",
              "      <th>Team</th>\n",
              "      <th>Position</th>\n",
              "      <th>Birthday</th>\n",
              "      <th>Salary</th>\n",
              "    </tr>\n",
              "    <tr>\n",
              "      <th>Name</th>\n",
              "      <th></th>\n",
              "      <th></th>\n",
              "      <th></th>\n",
              "      <th></th>\n",
              "    </tr>\n",
              "  </thead>\n",
              "  <tbody>\n",
              "    <tr>\n",
              "      <th>Shake Milton</th>\n",
              "      <td>Philadelphia 76ers</td>\n",
              "      <td>SG</td>\n",
              "      <td>1996-09-26</td>\n",
              "      <td>1445697</td>\n",
              "    </tr>\n",
              "    <tr>\n",
              "      <th>Christian Wood</th>\n",
              "      <td>Detroit Pistons</td>\n",
              "      <td>PF</td>\n",
              "      <td>1995-09-27</td>\n",
              "      <td>1645357</td>\n",
              "    </tr>\n",
              "    <tr>\n",
              "      <th>PJ Washington</th>\n",
              "      <td>Charlotte Hornets</td>\n",
              "      <td>PF</td>\n",
              "      <td>1998-08-23</td>\n",
              "      <td>3831840</td>\n",
              "    </tr>\n",
              "    <tr>\n",
              "      <th>Derrick Rose</th>\n",
              "      <td>Detroit Pistons</td>\n",
              "      <td>PG</td>\n",
              "      <td>1988-10-04</td>\n",
              "      <td>7317074</td>\n",
              "    </tr>\n",
              "    <tr>\n",
              "      <th>Marial Shayok</th>\n",
              "      <td>Philadelphia 76ers</td>\n",
              "      <td>G</td>\n",
              "      <td>1995-07-26</td>\n",
              "      <td>79568</td>\n",
              "    </tr>\n",
              "    <tr>\n",
              "      <th>...</th>\n",
              "      <td>...</td>\n",
              "      <td>...</td>\n",
              "      <td>...</td>\n",
              "      <td>...</td>\n",
              "    </tr>\n",
              "    <tr>\n",
              "      <th>Austin Rivers</th>\n",
              "      <td>Houston Rockets</td>\n",
              "      <td>PG</td>\n",
              "      <td>1992-08-01</td>\n",
              "      <td>2174310</td>\n",
              "    </tr>\n",
              "    <tr>\n",
              "      <th>Harry Giles</th>\n",
              "      <td>Sacramento Kings</td>\n",
              "      <td>PF</td>\n",
              "      <td>1998-04-22</td>\n",
              "      <td>2578800</td>\n",
              "    </tr>\n",
              "    <tr>\n",
              "      <th>Robin Lopez</th>\n",
              "      <td>Milwaukee Bucks</td>\n",
              "      <td>C</td>\n",
              "      <td>1988-04-01</td>\n",
              "      <td>4767000</td>\n",
              "    </tr>\n",
              "    <tr>\n",
              "      <th>Collin Sexton</th>\n",
              "      <td>Cleveland Cavaliers</td>\n",
              "      <td>PG</td>\n",
              "      <td>1999-01-04</td>\n",
              "      <td>4764960</td>\n",
              "    </tr>\n",
              "    <tr>\n",
              "      <th>Ricky Rubio</th>\n",
              "      <td>Phoenix Suns</td>\n",
              "      <td>PG</td>\n",
              "      <td>1990-10-21</td>\n",
              "      <td>16200000</td>\n",
              "    </tr>\n",
              "  </tbody>\n",
              "</table>\n",
              "<p>450 rows × 4 columns</p>\n",
              "</div>"
            ],
            "text/plain": [
              "                               Team Position   Birthday    Salary\n",
              "Name                                                             \n",
              "Shake Milton     Philadelphia 76ers       SG 1996-09-26   1445697\n",
              "Christian Wood      Detroit Pistons       PF 1995-09-27   1645357\n",
              "PJ Washington     Charlotte Hornets       PF 1998-08-23   3831840\n",
              "Derrick Rose        Detroit Pistons       PG 1988-10-04   7317074\n",
              "Marial Shayok    Philadelphia 76ers        G 1995-07-26     79568\n",
              "...                             ...      ...        ...       ...\n",
              "Austin Rivers       Houston Rockets       PG 1992-08-01   2174310\n",
              "Harry Giles        Sacramento Kings       PF 1998-04-22   2578800\n",
              "Robin Lopez         Milwaukee Bucks        C 1988-04-01   4767000\n",
              "Collin Sexton   Cleveland Cavaliers       PG 1999-01-04   4764960\n",
              "Ricky Rubio            Phoenix Suns       PG 1990-10-21  16200000\n",
              "\n",
              "[450 rows x 4 columns]"
            ]
          },
          "execution_count": 46,
          "metadata": {},
          "output_type": "execute_result"
        }
      ],
      "source": [
        "# The two lines below are equivalent\n",
        "nba.set_index(keys = \"Name\")\n",
        "nba.set_index(\"Name\")"
      ]
    },
    {
      "cell_type": "markdown",
      "metadata": {
        "id": "UqRULkQzwxh1"
      },
      "source": [
        "## 6 Selecting Columns and Rows from a DataFrame"
      ]
    },
    {
      "cell_type": "markdown",
      "metadata": {
        "id": "SXHrKv9twxh1"
      },
      "source": [
        "### 6.1 Selecting a Single Column from a DataFrame"
      ]
    },
    {
      "cell_type": "code",
      "execution_count": null,
      "metadata": {
        "id": "OP3dq2wFwxh1",
        "outputId": "19e16d20-36a5-4bff-a5ed-8cd5f1cc5088"
      },
      "outputs": [
        {
          "data": {
            "text/plain": [
              "0       1445697\n",
              "1       1645357\n",
              "2       3831840\n",
              "3       7317074\n",
              "4         79568\n",
              "         ...   \n",
              "445     2174310\n",
              "446     2578800\n",
              "447     4767000\n",
              "448     4764960\n",
              "449    16200000\n",
              "Name: Salary, Length: 450, dtype: int64"
            ]
          },
          "execution_count": 47,
          "metadata": {},
          "output_type": "execute_result"
        }
      ],
      "source": [
        "nba.Salary"
      ]
    },
    {
      "cell_type": "code",
      "execution_count": null,
      "metadata": {
        "id": "HGltcWPqwxh1",
        "outputId": "7f780b8d-583c-456f-fd62-36ae4c0ae6d9"
      },
      "outputs": [
        {
          "data": {
            "text/plain": [
              "0      SG\n",
              "1      PF\n",
              "2      PF\n",
              "3      PG\n",
              "4       G\n",
              "       ..\n",
              "445    PG\n",
              "446    PF\n",
              "447     C\n",
              "448    PG\n",
              "449    PG\n",
              "Name: Position, Length: 450, dtype: object"
            ]
          },
          "execution_count": 48,
          "metadata": {},
          "output_type": "execute_result"
        }
      ],
      "source": [
        "nba[\"Position\"]"
      ]
    },
    {
      "cell_type": "markdown",
      "metadata": {
        "id": "6PD7W8U3wxh1"
      },
      "source": [
        "### 6.2 Selecting Multiple Columns from a DataFrame"
      ]
    },
    {
      "cell_type": "code",
      "execution_count": null,
      "metadata": {
        "scrolled": true,
        "id": "08UZVp4Fwxh1",
        "outputId": "995aaec6-0a73-406e-fad3-80a7f8d4e5bb"
      },
      "outputs": [
        {
          "data": {
            "text/html": [
              "<div>\n",
              "<style scoped>\n",
              "    .dataframe tbody tr th:only-of-type {\n",
              "        vertical-align: middle;\n",
              "    }\n",
              "\n",
              "    .dataframe tbody tr th {\n",
              "        vertical-align: top;\n",
              "    }\n",
              "\n",
              "    .dataframe thead th {\n",
              "        text-align: right;\n",
              "    }\n",
              "</style>\n",
              "<table border=\"1\" class=\"dataframe\">\n",
              "  <thead>\n",
              "    <tr style=\"text-align: right;\">\n",
              "      <th></th>\n",
              "      <th>Salary</th>\n",
              "      <th>Birthday</th>\n",
              "    </tr>\n",
              "  </thead>\n",
              "  <tbody>\n",
              "    <tr>\n",
              "      <th>0</th>\n",
              "      <td>1445697</td>\n",
              "      <td>1996-09-26</td>\n",
              "    </tr>\n",
              "    <tr>\n",
              "      <th>1</th>\n",
              "      <td>1645357</td>\n",
              "      <td>1995-09-27</td>\n",
              "    </tr>\n",
              "    <tr>\n",
              "      <th>2</th>\n",
              "      <td>3831840</td>\n",
              "      <td>1998-08-23</td>\n",
              "    </tr>\n",
              "    <tr>\n",
              "      <th>3</th>\n",
              "      <td>7317074</td>\n",
              "      <td>1988-10-04</td>\n",
              "    </tr>\n",
              "    <tr>\n",
              "      <th>4</th>\n",
              "      <td>79568</td>\n",
              "      <td>1995-07-26</td>\n",
              "    </tr>\n",
              "  </tbody>\n",
              "</table>\n",
              "</div>"
            ],
            "text/plain": [
              "    Salary   Birthday\n",
              "0  1445697 1996-09-26\n",
              "1  1645357 1995-09-27\n",
              "2  3831840 1998-08-23\n",
              "3  7317074 1988-10-04\n",
              "4    79568 1995-07-26"
            ]
          },
          "execution_count": 49,
          "metadata": {},
          "output_type": "execute_result"
        }
      ],
      "source": [
        "nba[[\"Salary\", \"Birthday\"]].head()"
      ]
    },
    {
      "cell_type": "code",
      "execution_count": null,
      "metadata": {
        "id": "m2QKlVauwxh2",
        "outputId": "e5036ed2-2e6a-4ae9-e389-08a364530704"
      },
      "outputs": [
        {
          "data": {
            "text/html": [
              "<div>\n",
              "<style scoped>\n",
              "    .dataframe tbody tr th:only-of-type {\n",
              "        vertical-align: middle;\n",
              "    }\n",
              "\n",
              "    .dataframe tbody tr th {\n",
              "        vertical-align: top;\n",
              "    }\n",
              "\n",
              "    .dataframe thead th {\n",
              "        text-align: right;\n",
              "    }\n",
              "</style>\n",
              "<table border=\"1\" class=\"dataframe\">\n",
              "  <thead>\n",
              "    <tr style=\"text-align: right;\">\n",
              "      <th></th>\n",
              "      <th>Birthday</th>\n",
              "      <th>Salary</th>\n",
              "    </tr>\n",
              "  </thead>\n",
              "  <tbody>\n",
              "    <tr>\n",
              "      <th>0</th>\n",
              "      <td>1996-09-26</td>\n",
              "      <td>1445697</td>\n",
              "    </tr>\n",
              "    <tr>\n",
              "      <th>1</th>\n",
              "      <td>1995-09-27</td>\n",
              "      <td>1645357</td>\n",
              "    </tr>\n",
              "    <tr>\n",
              "      <th>2</th>\n",
              "      <td>1998-08-23</td>\n",
              "      <td>3831840</td>\n",
              "    </tr>\n",
              "    <tr>\n",
              "      <th>3</th>\n",
              "      <td>1988-10-04</td>\n",
              "      <td>7317074</td>\n",
              "    </tr>\n",
              "    <tr>\n",
              "      <th>4</th>\n",
              "      <td>1995-07-26</td>\n",
              "      <td>79568</td>\n",
              "    </tr>\n",
              "  </tbody>\n",
              "</table>\n",
              "</div>"
            ],
            "text/plain": [
              "    Birthday   Salary\n",
              "0 1996-09-26  1445697\n",
              "1 1995-09-27  1645357\n",
              "2 1998-08-23  3831840\n",
              "3 1988-10-04  7317074\n",
              "4 1995-07-26    79568"
            ]
          },
          "execution_count": 50,
          "metadata": {},
          "output_type": "execute_result"
        }
      ],
      "source": [
        "nba[[\"Birthday\", \"Salary\"]].head()"
      ]
    },
    {
      "cell_type": "code",
      "execution_count": null,
      "metadata": {
        "id": "OIlJDW5Mwxh2",
        "outputId": "d79b7534-9556-4192-ee73-9a07c7e22755"
      },
      "outputs": [
        {
          "data": {
            "text/html": [
              "<div>\n",
              "<style scoped>\n",
              "    .dataframe tbody tr th:only-of-type {\n",
              "        vertical-align: middle;\n",
              "    }\n",
              "\n",
              "    .dataframe tbody tr th {\n",
              "        vertical-align: top;\n",
              "    }\n",
              "\n",
              "    .dataframe thead th {\n",
              "        text-align: right;\n",
              "    }\n",
              "</style>\n",
              "<table border=\"1\" class=\"dataframe\">\n",
              "  <thead>\n",
              "    <tr style=\"text-align: right;\">\n",
              "      <th></th>\n",
              "      <th>Name</th>\n",
              "      <th>Team</th>\n",
              "      <th>Position</th>\n",
              "    </tr>\n",
              "  </thead>\n",
              "  <tbody>\n",
              "    <tr>\n",
              "      <th>0</th>\n",
              "      <td>Shake Milton</td>\n",
              "      <td>Philadelphia 76ers</td>\n",
              "      <td>SG</td>\n",
              "    </tr>\n",
              "    <tr>\n",
              "      <th>1</th>\n",
              "      <td>Christian Wood</td>\n",
              "      <td>Detroit Pistons</td>\n",
              "      <td>PF</td>\n",
              "    </tr>\n",
              "    <tr>\n",
              "      <th>2</th>\n",
              "      <td>PJ Washington</td>\n",
              "      <td>Charlotte Hornets</td>\n",
              "      <td>PF</td>\n",
              "    </tr>\n",
              "    <tr>\n",
              "      <th>3</th>\n",
              "      <td>Derrick Rose</td>\n",
              "      <td>Detroit Pistons</td>\n",
              "      <td>PG</td>\n",
              "    </tr>\n",
              "    <tr>\n",
              "      <th>4</th>\n",
              "      <td>Marial Shayok</td>\n",
              "      <td>Philadelphia 76ers</td>\n",
              "      <td>G</td>\n",
              "    </tr>\n",
              "    <tr>\n",
              "      <th>...</th>\n",
              "      <td>...</td>\n",
              "      <td>...</td>\n",
              "      <td>...</td>\n",
              "    </tr>\n",
              "    <tr>\n",
              "      <th>445</th>\n",
              "      <td>Austin Rivers</td>\n",
              "      <td>Houston Rockets</td>\n",
              "      <td>PG</td>\n",
              "    </tr>\n",
              "    <tr>\n",
              "      <th>446</th>\n",
              "      <td>Harry Giles</td>\n",
              "      <td>Sacramento Kings</td>\n",
              "      <td>PF</td>\n",
              "    </tr>\n",
              "    <tr>\n",
              "      <th>447</th>\n",
              "      <td>Robin Lopez</td>\n",
              "      <td>Milwaukee Bucks</td>\n",
              "      <td>C</td>\n",
              "    </tr>\n",
              "    <tr>\n",
              "      <th>448</th>\n",
              "      <td>Collin Sexton</td>\n",
              "      <td>Cleveland Cavaliers</td>\n",
              "      <td>PG</td>\n",
              "    </tr>\n",
              "    <tr>\n",
              "      <th>449</th>\n",
              "      <td>Ricky Rubio</td>\n",
              "      <td>Phoenix Suns</td>\n",
              "      <td>PG</td>\n",
              "    </tr>\n",
              "  </tbody>\n",
              "</table>\n",
              "<p>450 rows × 3 columns</p>\n",
              "</div>"
            ],
            "text/plain": [
              "               Name                 Team Position\n",
              "0      Shake Milton   Philadelphia 76ers       SG\n",
              "1    Christian Wood      Detroit Pistons       PF\n",
              "2     PJ Washington    Charlotte Hornets       PF\n",
              "3      Derrick Rose      Detroit Pistons       PG\n",
              "4     Marial Shayok   Philadelphia 76ers        G\n",
              "..              ...                  ...      ...\n",
              "445   Austin Rivers      Houston Rockets       PG\n",
              "446     Harry Giles     Sacramento Kings       PF\n",
              "447     Robin Lopez      Milwaukee Bucks        C\n",
              "448   Collin Sexton  Cleveland Cavaliers       PG\n",
              "449     Ricky Rubio         Phoenix Suns       PG\n",
              "\n",
              "[450 rows x 3 columns]"
            ]
          },
          "execution_count": 51,
          "metadata": {},
          "output_type": "execute_result"
        }
      ],
      "source": [
        "nba.select_dtypes(include = \"object\")"
      ]
    },
    {
      "cell_type": "code",
      "execution_count": null,
      "metadata": {
        "id": "vgfqlfgGwxh2",
        "outputId": "215265aa-f3c2-4946-ca1d-d93422de097f"
      },
      "outputs": [
        {
          "data": {
            "text/html": [
              "<div>\n",
              "<style scoped>\n",
              "    .dataframe tbody tr th:only-of-type {\n",
              "        vertical-align: middle;\n",
              "    }\n",
              "\n",
              "    .dataframe tbody tr th {\n",
              "        vertical-align: top;\n",
              "    }\n",
              "\n",
              "    .dataframe thead th {\n",
              "        text-align: right;\n",
              "    }\n",
              "</style>\n",
              "<table border=\"1\" class=\"dataframe\">\n",
              "  <thead>\n",
              "    <tr style=\"text-align: right;\">\n",
              "      <th></th>\n",
              "      <th>Birthday</th>\n",
              "    </tr>\n",
              "  </thead>\n",
              "  <tbody>\n",
              "    <tr>\n",
              "      <th>0</th>\n",
              "      <td>1996-09-26</td>\n",
              "    </tr>\n",
              "    <tr>\n",
              "      <th>1</th>\n",
              "      <td>1995-09-27</td>\n",
              "    </tr>\n",
              "    <tr>\n",
              "      <th>2</th>\n",
              "      <td>1998-08-23</td>\n",
              "    </tr>\n",
              "    <tr>\n",
              "      <th>3</th>\n",
              "      <td>1988-10-04</td>\n",
              "    </tr>\n",
              "    <tr>\n",
              "      <th>4</th>\n",
              "      <td>1995-07-26</td>\n",
              "    </tr>\n",
              "    <tr>\n",
              "      <th>...</th>\n",
              "      <td>...</td>\n",
              "    </tr>\n",
              "    <tr>\n",
              "      <th>445</th>\n",
              "      <td>1992-08-01</td>\n",
              "    </tr>\n",
              "    <tr>\n",
              "      <th>446</th>\n",
              "      <td>1998-04-22</td>\n",
              "    </tr>\n",
              "    <tr>\n",
              "      <th>447</th>\n",
              "      <td>1988-04-01</td>\n",
              "    </tr>\n",
              "    <tr>\n",
              "      <th>448</th>\n",
              "      <td>1999-01-04</td>\n",
              "    </tr>\n",
              "    <tr>\n",
              "      <th>449</th>\n",
              "      <td>1990-10-21</td>\n",
              "    </tr>\n",
              "  </tbody>\n",
              "</table>\n",
              "<p>450 rows × 1 columns</p>\n",
              "</div>"
            ],
            "text/plain": [
              "      Birthday\n",
              "0   1996-09-26\n",
              "1   1995-09-27\n",
              "2   1998-08-23\n",
              "3   1988-10-04\n",
              "4   1995-07-26\n",
              "..         ...\n",
              "445 1992-08-01\n",
              "446 1998-04-22\n",
              "447 1988-04-01\n",
              "448 1999-01-04\n",
              "449 1990-10-21\n",
              "\n",
              "[450 rows x 1 columns]"
            ]
          },
          "execution_count": 52,
          "metadata": {},
          "output_type": "execute_result"
        }
      ],
      "source": [
        "nba.select_dtypes(exclude = [\"object\", \"int\"])"
      ]
    },
    {
      "cell_type": "markdown",
      "metadata": {
        "id": "603568VCwxh2"
      },
      "source": [
        "## 7 Selecting Rows from a DataFrame"
      ]
    },
    {
      "cell_type": "markdown",
      "metadata": {
        "id": "5KGUXhFnwxh2"
      },
      "source": [
        "### 7.1 Extracting Rows by Index Label"
      ]
    },
    {
      "cell_type": "code",
      "execution_count": null,
      "metadata": {
        "id": "_So56-hgwxh2",
        "outputId": "cfb42d47-0d0b-4ce9-e33c-133d50d3a085"
      },
      "outputs": [
        {
          "data": {
            "text/html": [
              "<div>\n",
              "<style scoped>\n",
              "    .dataframe tbody tr th:only-of-type {\n",
              "        vertical-align: middle;\n",
              "    }\n",
              "\n",
              "    .dataframe tbody tr th {\n",
              "        vertical-align: top;\n",
              "    }\n",
              "\n",
              "    .dataframe thead th {\n",
              "        text-align: right;\n",
              "    }\n",
              "</style>\n",
              "<table border=\"1\" class=\"dataframe\">\n",
              "  <thead>\n",
              "    <tr style=\"text-align: right;\">\n",
              "      <th></th>\n",
              "      <th>Name</th>\n",
              "      <th>Team</th>\n",
              "      <th>Position</th>\n",
              "      <th>Birthday</th>\n",
              "      <th>Salary</th>\n",
              "    </tr>\n",
              "  </thead>\n",
              "  <tbody>\n",
              "    <tr>\n",
              "      <th>0</th>\n",
              "      <td>Shake Milton</td>\n",
              "      <td>Philadelphia 76ers</td>\n",
              "      <td>SG</td>\n",
              "      <td>1996-09-26</td>\n",
              "      <td>1445697</td>\n",
              "    </tr>\n",
              "    <tr>\n",
              "      <th>1</th>\n",
              "      <td>Christian Wood</td>\n",
              "      <td>Detroit Pistons</td>\n",
              "      <td>PF</td>\n",
              "      <td>1995-09-27</td>\n",
              "      <td>1645357</td>\n",
              "    </tr>\n",
              "    <tr>\n",
              "      <th>2</th>\n",
              "      <td>PJ Washington</td>\n",
              "      <td>Charlotte Hornets</td>\n",
              "      <td>PF</td>\n",
              "      <td>1998-08-23</td>\n",
              "      <td>3831840</td>\n",
              "    </tr>\n",
              "    <tr>\n",
              "      <th>3</th>\n",
              "      <td>Derrick Rose</td>\n",
              "      <td>Detroit Pistons</td>\n",
              "      <td>PG</td>\n",
              "      <td>1988-10-04</td>\n",
              "      <td>7317074</td>\n",
              "    </tr>\n",
              "    <tr>\n",
              "      <th>4</th>\n",
              "      <td>Marial Shayok</td>\n",
              "      <td>Philadelphia 76ers</td>\n",
              "      <td>G</td>\n",
              "      <td>1995-07-26</td>\n",
              "      <td>79568</td>\n",
              "    </tr>\n",
              "    <tr>\n",
              "      <th>...</th>\n",
              "      <td>...</td>\n",
              "      <td>...</td>\n",
              "      <td>...</td>\n",
              "      <td>...</td>\n",
              "      <td>...</td>\n",
              "    </tr>\n",
              "    <tr>\n",
              "      <th>445</th>\n",
              "      <td>Austin Rivers</td>\n",
              "      <td>Houston Rockets</td>\n",
              "      <td>PG</td>\n",
              "      <td>1992-08-01</td>\n",
              "      <td>2174310</td>\n",
              "    </tr>\n",
              "    <tr>\n",
              "      <th>446</th>\n",
              "      <td>Harry Giles</td>\n",
              "      <td>Sacramento Kings</td>\n",
              "      <td>PF</td>\n",
              "      <td>1998-04-22</td>\n",
              "      <td>2578800</td>\n",
              "    </tr>\n",
              "    <tr>\n",
              "      <th>447</th>\n",
              "      <td>Robin Lopez</td>\n",
              "      <td>Milwaukee Bucks</td>\n",
              "      <td>C</td>\n",
              "      <td>1988-04-01</td>\n",
              "      <td>4767000</td>\n",
              "    </tr>\n",
              "    <tr>\n",
              "      <th>448</th>\n",
              "      <td>Collin Sexton</td>\n",
              "      <td>Cleveland Cavaliers</td>\n",
              "      <td>PG</td>\n",
              "      <td>1999-01-04</td>\n",
              "      <td>4764960</td>\n",
              "    </tr>\n",
              "    <tr>\n",
              "      <th>449</th>\n",
              "      <td>Ricky Rubio</td>\n",
              "      <td>Phoenix Suns</td>\n",
              "      <td>PG</td>\n",
              "      <td>1990-10-21</td>\n",
              "      <td>16200000</td>\n",
              "    </tr>\n",
              "  </tbody>\n",
              "</table>\n",
              "<p>450 rows × 5 columns</p>\n",
              "</div>"
            ],
            "text/plain": [
              "               Name                 Team Position   Birthday    Salary\n",
              "0      Shake Milton   Philadelphia 76ers       SG 1996-09-26   1445697\n",
              "1    Christian Wood      Detroit Pistons       PF 1995-09-27   1645357\n",
              "2     PJ Washington    Charlotte Hornets       PF 1998-08-23   3831840\n",
              "3      Derrick Rose      Detroit Pistons       PG 1988-10-04   7317074\n",
              "4     Marial Shayok   Philadelphia 76ers        G 1995-07-26     79568\n",
              "..              ...                  ...      ...        ...       ...\n",
              "445   Austin Rivers      Houston Rockets       PG 1992-08-01   2174310\n",
              "446     Harry Giles     Sacramento Kings       PF 1998-04-22   2578800\n",
              "447     Robin Lopez      Milwaukee Bucks        C 1988-04-01   4767000\n",
              "448   Collin Sexton  Cleveland Cavaliers       PG 1999-01-04   4764960\n",
              "449     Ricky Rubio         Phoenix Suns       PG 1990-10-21  16200000\n",
              "\n",
              "[450 rows x 5 columns]"
            ]
          },
          "execution_count": 53,
          "metadata": {},
          "output_type": "execute_result"
        }
      ],
      "source": [
        "nba"
      ]
    },
    {
      "cell_type": "code",
      "execution_count": null,
      "metadata": {
        "id": "CjhXaY-hwxh2"
      },
      "outputs": [],
      "source": [
        "nba.index = nba[\"Name\"]"
      ]
    },
    {
      "cell_type": "code",
      "execution_count": null,
      "metadata": {
        "id": "Ue-OVlQMwxh3",
        "outputId": "875ec040-7073-4c36-fa23-c754d3ee7765"
      },
      "outputs": [
        {
          "data": {
            "text/plain": [
              "Name               LeBron James\n",
              "Team         Los Angeles Lakers\n",
              "Position                     PF\n",
              "Birthday    1984-12-30 00:00:00\n",
              "Salary                 37436858\n",
              "Name: LeBron James, dtype: object"
            ]
          },
          "execution_count": 55,
          "metadata": {},
          "output_type": "execute_result"
        }
      ],
      "source": [
        "nba.loc[\"LeBron James\"]"
      ]
    },
    {
      "cell_type": "code",
      "execution_count": null,
      "metadata": {
        "id": "2Nnb3YSTwxh3",
        "outputId": "e085f058-7382-46ef-f8d2-90375b52be12"
      },
      "outputs": [
        {
          "data": {
            "text/html": [
              "<div>\n",
              "<style scoped>\n",
              "    .dataframe tbody tr th:only-of-type {\n",
              "        vertical-align: middle;\n",
              "    }\n",
              "\n",
              "    .dataframe tbody tr th {\n",
              "        vertical-align: top;\n",
              "    }\n",
              "\n",
              "    .dataframe thead th {\n",
              "        text-align: right;\n",
              "    }\n",
              "</style>\n",
              "<table border=\"1\" class=\"dataframe\">\n",
              "  <thead>\n",
              "    <tr style=\"text-align: right;\">\n",
              "      <th></th>\n",
              "      <th>Name</th>\n",
              "      <th>Team</th>\n",
              "      <th>Position</th>\n",
              "      <th>Birthday</th>\n",
              "      <th>Salary</th>\n",
              "    </tr>\n",
              "    <tr>\n",
              "      <th>Name</th>\n",
              "      <th></th>\n",
              "      <th></th>\n",
              "      <th></th>\n",
              "      <th></th>\n",
              "      <th></th>\n",
              "    </tr>\n",
              "  </thead>\n",
              "  <tbody>\n",
              "    <tr>\n",
              "      <th>Kawhi Leonard</th>\n",
              "      <td>Kawhi Leonard</td>\n",
              "      <td>Los Angeles Clippers</td>\n",
              "      <td>SF</td>\n",
              "      <td>1991-06-29</td>\n",
              "      <td>32742000</td>\n",
              "    </tr>\n",
              "    <tr>\n",
              "      <th>Paul George</th>\n",
              "      <td>Paul George</td>\n",
              "      <td>Los Angeles Clippers</td>\n",
              "      <td>SF</td>\n",
              "      <td>1990-05-02</td>\n",
              "      <td>33005556</td>\n",
              "    </tr>\n",
              "  </tbody>\n",
              "</table>\n",
              "</div>"
            ],
            "text/plain": [
              "                        Name                  Team Position   Birthday  \\\n",
              "Name                                                                     \n",
              "Kawhi Leonard  Kawhi Leonard  Los Angeles Clippers       SF 1991-06-29   \n",
              "Paul George      Paul George  Los Angeles Clippers       SF 1990-05-02   \n",
              "\n",
              "                 Salary  \n",
              "Name                     \n",
              "Kawhi Leonard  32742000  \n",
              "Paul George    33005556  "
            ]
          },
          "execution_count": 56,
          "metadata": {},
          "output_type": "execute_result"
        }
      ],
      "source": [
        "nba.loc[[\"Kawhi Leonard\", \"Paul George\"]]"
      ]
    },
    {
      "cell_type": "code",
      "execution_count": null,
      "metadata": {
        "id": "uz0cFDFTwxh3",
        "outputId": "50fbf44f-d957-4fec-d847-be827fc0e82f"
      },
      "outputs": [
        {
          "data": {
            "text/html": [
              "<div>\n",
              "<style scoped>\n",
              "    .dataframe tbody tr th:only-of-type {\n",
              "        vertical-align: middle;\n",
              "    }\n",
              "\n",
              "    .dataframe tbody tr th {\n",
              "        vertical-align: top;\n",
              "    }\n",
              "\n",
              "    .dataframe thead th {\n",
              "        text-align: right;\n",
              "    }\n",
              "</style>\n",
              "<table border=\"1\" class=\"dataframe\">\n",
              "  <thead>\n",
              "    <tr style=\"text-align: right;\">\n",
              "      <th></th>\n",
              "      <th>Name</th>\n",
              "      <th>Team</th>\n",
              "      <th>Position</th>\n",
              "      <th>Birthday</th>\n",
              "      <th>Salary</th>\n",
              "    </tr>\n",
              "    <tr>\n",
              "      <th>Name</th>\n",
              "      <th></th>\n",
              "      <th></th>\n",
              "      <th></th>\n",
              "      <th></th>\n",
              "      <th></th>\n",
              "    </tr>\n",
              "  </thead>\n",
              "  <tbody>\n",
              "    <tr>\n",
              "      <th>Paul George</th>\n",
              "      <td>Paul George</td>\n",
              "      <td>Los Angeles Clippers</td>\n",
              "      <td>SF</td>\n",
              "      <td>1990-05-02</td>\n",
              "      <td>33005556</td>\n",
              "    </tr>\n",
              "    <tr>\n",
              "      <th>Kawhi Leonard</th>\n",
              "      <td>Kawhi Leonard</td>\n",
              "      <td>Los Angeles Clippers</td>\n",
              "      <td>SF</td>\n",
              "      <td>1991-06-29</td>\n",
              "      <td>32742000</td>\n",
              "    </tr>\n",
              "  </tbody>\n",
              "</table>\n",
              "</div>"
            ],
            "text/plain": [
              "                        Name                  Team Position   Birthday  \\\n",
              "Name                                                                     \n",
              "Paul George      Paul George  Los Angeles Clippers       SF 1990-05-02   \n",
              "Kawhi Leonard  Kawhi Leonard  Los Angeles Clippers       SF 1991-06-29   \n",
              "\n",
              "                 Salary  \n",
              "Name                     \n",
              "Paul George    33005556  \n",
              "Kawhi Leonard  32742000  "
            ]
          },
          "execution_count": 57,
          "metadata": {},
          "output_type": "execute_result"
        }
      ],
      "source": [
        "nba.loc[[\"Paul George\", \"Kawhi Leonard\"]]"
      ]
    },
    {
      "cell_type": "code",
      "execution_count": null,
      "metadata": {
        "id": "aQlSq6guwxh3",
        "outputId": "125c3505-b258-48d8-d853-f83bc187c2e5"
      },
      "outputs": [
        {
          "data": {
            "text/html": [
              "<div>\n",
              "<style scoped>\n",
              "    .dataframe tbody tr th:only-of-type {\n",
              "        vertical-align: middle;\n",
              "    }\n",
              "\n",
              "    .dataframe tbody tr th {\n",
              "        vertical-align: top;\n",
              "    }\n",
              "\n",
              "    .dataframe thead th {\n",
              "        text-align: right;\n",
              "    }\n",
              "</style>\n",
              "<table border=\"1\" class=\"dataframe\">\n",
              "  <thead>\n",
              "    <tr style=\"text-align: right;\">\n",
              "      <th></th>\n",
              "      <th>Name</th>\n",
              "      <th>Team</th>\n",
              "      <th>Position</th>\n",
              "      <th>Birthday</th>\n",
              "      <th>Salary</th>\n",
              "    </tr>\n",
              "    <tr>\n",
              "      <th>Name</th>\n",
              "      <th></th>\n",
              "      <th></th>\n",
              "      <th></th>\n",
              "      <th></th>\n",
              "      <th></th>\n",
              "    </tr>\n",
              "  </thead>\n",
              "  <tbody>\n",
              "    <tr>\n",
              "      <th>Otto Porter</th>\n",
              "      <td>Otto Porter</td>\n",
              "      <td>Chicago Bulls</td>\n",
              "      <td>SF</td>\n",
              "      <td>1993-06-03</td>\n",
              "      <td>27250576</td>\n",
              "    </tr>\n",
              "    <tr>\n",
              "      <th>PJ Dozier</th>\n",
              "      <td>PJ Dozier</td>\n",
              "      <td>Denver Nuggets</td>\n",
              "      <td>PG</td>\n",
              "      <td>1996-10-25</td>\n",
              "      <td>79568</td>\n",
              "    </tr>\n",
              "    <tr>\n",
              "      <th>PJ Washington</th>\n",
              "      <td>PJ Washington</td>\n",
              "      <td>Charlotte Hornets</td>\n",
              "      <td>PF</td>\n",
              "      <td>1998-08-23</td>\n",
              "      <td>3831840</td>\n",
              "    </tr>\n",
              "    <tr>\n",
              "      <th>Pascal Siakam</th>\n",
              "      <td>Pascal Siakam</td>\n",
              "      <td>Toronto Raptors</td>\n",
              "      <td>PF</td>\n",
              "      <td>1994-04-02</td>\n",
              "      <td>2351838</td>\n",
              "    </tr>\n",
              "    <tr>\n",
              "      <th>Pat Connaughton</th>\n",
              "      <td>Pat Connaughton</td>\n",
              "      <td>Milwaukee Bucks</td>\n",
              "      <td>SG</td>\n",
              "      <td>1993-01-06</td>\n",
              "      <td>1723050</td>\n",
              "    </tr>\n",
              "    <tr>\n",
              "      <th>Patrick Beverley</th>\n",
              "      <td>Patrick Beverley</td>\n",
              "      <td>Los Angeles Clippers</td>\n",
              "      <td>PG</td>\n",
              "      <td>1988-07-12</td>\n",
              "      <td>12345680</td>\n",
              "    </tr>\n",
              "  </tbody>\n",
              "</table>\n",
              "</div>"
            ],
            "text/plain": [
              "                              Name                  Team Position   Birthday  \\\n",
              "Name                                                                           \n",
              "Otto Porter            Otto Porter         Chicago Bulls       SF 1993-06-03   \n",
              "PJ Dozier                PJ Dozier        Denver Nuggets       PG 1996-10-25   \n",
              "PJ Washington        PJ Washington     Charlotte Hornets       PF 1998-08-23   \n",
              "Pascal Siakam        Pascal Siakam       Toronto Raptors       PF 1994-04-02   \n",
              "Pat Connaughton    Pat Connaughton       Milwaukee Bucks       SG 1993-01-06   \n",
              "Patrick Beverley  Patrick Beverley  Los Angeles Clippers       PG 1988-07-12   \n",
              "\n",
              "                    Salary  \n",
              "Name                        \n",
              "Otto Porter       27250576  \n",
              "PJ Dozier            79568  \n",
              "PJ Washington      3831840  \n",
              "Pascal Siakam      2351838  \n",
              "Pat Connaughton    1723050  \n",
              "Patrick Beverley  12345680  "
            ]
          },
          "execution_count": 58,
          "metadata": {},
          "output_type": "execute_result"
        }
      ],
      "source": [
        "nba.sort_index().loc[\"Otto Porter\":\"Patrick Beverley\"]"
      ]
    },
    {
      "cell_type": "code",
      "execution_count": null,
      "metadata": {
        "id": "20JPGLUywxh3",
        "outputId": "da643637-5bb8-4659-8df5-994f6003e284"
      },
      "outputs": [
        {
          "data": {
            "text/plain": [
              "['Otto Porter', 'PJ Dozier']"
            ]
          },
          "execution_count": 59,
          "metadata": {},
          "output_type": "execute_result"
        }
      ],
      "source": [
        "players = [\"Otto Porter\", \"PJ Dozier\", \"PJ Washington\"]\n",
        "players[0:2]"
      ]
    },
    {
      "cell_type": "code",
      "execution_count": null,
      "metadata": {
        "id": "-ibJTVz6wxh3",
        "outputId": "dc7b6f37-82e8-47cd-bc85-38e0816709a3"
      },
      "outputs": [
        {
          "data": {
            "text/html": [
              "<div>\n",
              "<style scoped>\n",
              "    .dataframe tbody tr th:only-of-type {\n",
              "        vertical-align: middle;\n",
              "    }\n",
              "\n",
              "    .dataframe tbody tr th {\n",
              "        vertical-align: top;\n",
              "    }\n",
              "\n",
              "    .dataframe thead th {\n",
              "        text-align: right;\n",
              "    }\n",
              "</style>\n",
              "<table border=\"1\" class=\"dataframe\">\n",
              "  <thead>\n",
              "    <tr style=\"text-align: right;\">\n",
              "      <th></th>\n",
              "      <th>Name</th>\n",
              "      <th>Team</th>\n",
              "      <th>Position</th>\n",
              "      <th>Birthday</th>\n",
              "      <th>Salary</th>\n",
              "    </tr>\n",
              "    <tr>\n",
              "      <th>Name</th>\n",
              "      <th></th>\n",
              "      <th></th>\n",
              "      <th></th>\n",
              "      <th></th>\n",
              "      <th></th>\n",
              "    </tr>\n",
              "  </thead>\n",
              "  <tbody>\n",
              "    <tr>\n",
              "      <th>Zach Collins</th>\n",
              "      <td>Zach Collins</td>\n",
              "      <td>Portland Trail Blazers</td>\n",
              "      <td>C</td>\n",
              "      <td>1997-11-19</td>\n",
              "      <td>4240200</td>\n",
              "    </tr>\n",
              "    <tr>\n",
              "      <th>Zach LaVine</th>\n",
              "      <td>Zach LaVine</td>\n",
              "      <td>Chicago Bulls</td>\n",
              "      <td>PG</td>\n",
              "      <td>1995-03-10</td>\n",
              "      <td>19500000</td>\n",
              "    </tr>\n",
              "    <tr>\n",
              "      <th>Zach Norvell</th>\n",
              "      <td>Zach Norvell</td>\n",
              "      <td>Los Angeles Lakers</td>\n",
              "      <td>SG</td>\n",
              "      <td>1997-12-09</td>\n",
              "      <td>79568</td>\n",
              "    </tr>\n",
              "    <tr>\n",
              "      <th>Zhaire Smith</th>\n",
              "      <td>Zhaire Smith</td>\n",
              "      <td>Philadelphia 76ers</td>\n",
              "      <td>SG</td>\n",
              "      <td>1999-06-04</td>\n",
              "      <td>3058800</td>\n",
              "    </tr>\n",
              "    <tr>\n",
              "      <th>Zion Williamson</th>\n",
              "      <td>Zion Williamson</td>\n",
              "      <td>New Orleans Pelicans</td>\n",
              "      <td>F</td>\n",
              "      <td>2000-07-06</td>\n",
              "      <td>9757440</td>\n",
              "    </tr>\n",
              "    <tr>\n",
              "      <th>Zylan Cheatham</th>\n",
              "      <td>Zylan Cheatham</td>\n",
              "      <td>New Orleans Pelicans</td>\n",
              "      <td>SF</td>\n",
              "      <td>1995-11-17</td>\n",
              "      <td>79568</td>\n",
              "    </tr>\n",
              "  </tbody>\n",
              "</table>\n",
              "</div>"
            ],
            "text/plain": [
              "                            Name                    Team Position   Birthday  \\\n",
              "Name                                                                           \n",
              "Zach Collins        Zach Collins  Portland Trail Blazers        C 1997-11-19   \n",
              "Zach LaVine          Zach LaVine           Chicago Bulls       PG 1995-03-10   \n",
              "Zach Norvell        Zach Norvell      Los Angeles Lakers       SG 1997-12-09   \n",
              "Zhaire Smith        Zhaire Smith      Philadelphia 76ers       SG 1999-06-04   \n",
              "Zion Williamson  Zion Williamson    New Orleans Pelicans        F 2000-07-06   \n",
              "Zylan Cheatham    Zylan Cheatham    New Orleans Pelicans       SF 1995-11-17   \n",
              "\n",
              "                   Salary  \n",
              "Name                       \n",
              "Zach Collins      4240200  \n",
              "Zach LaVine      19500000  \n",
              "Zach Norvell        79568  \n",
              "Zhaire Smith      3058800  \n",
              "Zion Williamson   9757440  \n",
              "Zylan Cheatham      79568  "
            ]
          },
          "execution_count": 60,
          "metadata": {},
          "output_type": "execute_result"
        }
      ],
      "source": [
        "nba.sort_index().loc[\"Zach Collins\":]"
      ]
    },
    {
      "cell_type": "code",
      "execution_count": null,
      "metadata": {
        "id": "Sna2e89twxh3",
        "outputId": "7a051f91-ab61-4942-e100-e5ff909ea94b"
      },
      "outputs": [
        {
          "data": {
            "text/html": [
              "<div>\n",
              "<style scoped>\n",
              "    .dataframe tbody tr th:only-of-type {\n",
              "        vertical-align: middle;\n",
              "    }\n",
              "\n",
              "    .dataframe tbody tr th {\n",
              "        vertical-align: top;\n",
              "    }\n",
              "\n",
              "    .dataframe thead th {\n",
              "        text-align: right;\n",
              "    }\n",
              "</style>\n",
              "<table border=\"1\" class=\"dataframe\">\n",
              "  <thead>\n",
              "    <tr style=\"text-align: right;\">\n",
              "      <th></th>\n",
              "      <th>Name</th>\n",
              "      <th>Team</th>\n",
              "      <th>Position</th>\n",
              "      <th>Birthday</th>\n",
              "      <th>Salary</th>\n",
              "    </tr>\n",
              "    <tr>\n",
              "      <th>Name</th>\n",
              "      <th></th>\n",
              "      <th></th>\n",
              "      <th></th>\n",
              "      <th></th>\n",
              "      <th></th>\n",
              "    </tr>\n",
              "  </thead>\n",
              "  <tbody>\n",
              "    <tr>\n",
              "      <th>Aaron Gordon</th>\n",
              "      <td>Aaron Gordon</td>\n",
              "      <td>Orlando Magic</td>\n",
              "      <td>PF</td>\n",
              "      <td>1995-09-16</td>\n",
              "      <td>19863636</td>\n",
              "    </tr>\n",
              "    <tr>\n",
              "      <th>Aaron Holiday</th>\n",
              "      <td>Aaron Holiday</td>\n",
              "      <td>Indiana Pacers</td>\n",
              "      <td>PG</td>\n",
              "      <td>1996-09-30</td>\n",
              "      <td>2239200</td>\n",
              "    </tr>\n",
              "    <tr>\n",
              "      <th>Abdel Nader</th>\n",
              "      <td>Abdel Nader</td>\n",
              "      <td>Oklahoma City Thunder</td>\n",
              "      <td>SF</td>\n",
              "      <td>1993-09-25</td>\n",
              "      <td>1618520</td>\n",
              "    </tr>\n",
              "    <tr>\n",
              "      <th>Adam Mokoka</th>\n",
              "      <td>Adam Mokoka</td>\n",
              "      <td>Chicago Bulls</td>\n",
              "      <td>G</td>\n",
              "      <td>1998-07-18</td>\n",
              "      <td>79568</td>\n",
              "    </tr>\n",
              "    <tr>\n",
              "      <th>Admiral Schofield</th>\n",
              "      <td>Admiral Schofield</td>\n",
              "      <td>Washington Wizards</td>\n",
              "      <td>SF</td>\n",
              "      <td>1997-03-30</td>\n",
              "      <td>1000000</td>\n",
              "    </tr>\n",
              "    <tr>\n",
              "      <th>Al Horford</th>\n",
              "      <td>Al Horford</td>\n",
              "      <td>Philadelphia 76ers</td>\n",
              "      <td>C</td>\n",
              "      <td>1986-06-03</td>\n",
              "      <td>28000000</td>\n",
              "    </tr>\n",
              "  </tbody>\n",
              "</table>\n",
              "</div>"
            ],
            "text/plain": [
              "                                Name                   Team Position  \\\n",
              "Name                                                                   \n",
              "Aaron Gordon            Aaron Gordon          Orlando Magic       PF   \n",
              "Aaron Holiday          Aaron Holiday         Indiana Pacers       PG   \n",
              "Abdel Nader              Abdel Nader  Oklahoma City Thunder       SF   \n",
              "Adam Mokoka              Adam Mokoka          Chicago Bulls        G   \n",
              "Admiral Schofield  Admiral Schofield     Washington Wizards       SF   \n",
              "Al Horford                Al Horford     Philadelphia 76ers        C   \n",
              "\n",
              "                    Birthday    Salary  \n",
              "Name                                    \n",
              "Aaron Gordon      1995-09-16  19863636  \n",
              "Aaron Holiday     1996-09-30   2239200  \n",
              "Abdel Nader       1993-09-25   1618520  \n",
              "Adam Mokoka       1998-07-18     79568  \n",
              "Admiral Schofield 1997-03-30   1000000  \n",
              "Al Horford        1986-06-03  28000000  "
            ]
          },
          "execution_count": 61,
          "metadata": {},
          "output_type": "execute_result"
        }
      ],
      "source": [
        "nba.sort_index().loc[:\"Al Horford\"]"
      ]
    },
    {
      "cell_type": "markdown",
      "metadata": {
        "id": "48Tpvvndwxh4"
      },
      "source": [
        "**NOTE**: I've commented out the code below so that the Notebook can run without raising an error."
      ]
    },
    {
      "cell_type": "code",
      "execution_count": null,
      "metadata": {
        "id": "BqJj-es4wxh4"
      },
      "outputs": [],
      "source": [
        "#nba.loc[\"Bugs Bunny\"]"
      ]
    },
    {
      "cell_type": "markdown",
      "metadata": {
        "id": "GRPdK7pTwxh4"
      },
      "source": [
        "### 7.2 Extracting Rows by Index Position"
      ]
    },
    {
      "cell_type": "code",
      "execution_count": null,
      "metadata": {
        "id": "3AE2EIZ2wxh4",
        "outputId": "398ec6aa-c351-4cbc-9553-75c0891be3c6"
      },
      "outputs": [
        {
          "data": {
            "text/plain": [
              "Name          Jarred Vanderbilt\n",
              "Team             Denver Nuggets\n",
              "Position                     PF\n",
              "Birthday    1999-04-03 00:00:00\n",
              "Salary                  1416852\n",
              "Name: Jarred Vanderbilt, dtype: object"
            ]
          },
          "execution_count": 63,
          "metadata": {},
          "output_type": "execute_result"
        }
      ],
      "source": [
        "nba.iloc[300]"
      ]
    },
    {
      "cell_type": "code",
      "execution_count": null,
      "metadata": {
        "id": "qd8Z_pc2wxh4",
        "outputId": "0fad578a-f823-4ccf-afc9-a797b19d39cf"
      },
      "outputs": [
        {
          "data": {
            "text/html": [
              "<div>\n",
              "<style scoped>\n",
              "    .dataframe tbody tr th:only-of-type {\n",
              "        vertical-align: middle;\n",
              "    }\n",
              "\n",
              "    .dataframe tbody tr th {\n",
              "        vertical-align: top;\n",
              "    }\n",
              "\n",
              "    .dataframe thead th {\n",
              "        text-align: right;\n",
              "    }\n",
              "</style>\n",
              "<table border=\"1\" class=\"dataframe\">\n",
              "  <thead>\n",
              "    <tr style=\"text-align: right;\">\n",
              "      <th></th>\n",
              "      <th>Name</th>\n",
              "      <th>Team</th>\n",
              "      <th>Position</th>\n",
              "      <th>Birthday</th>\n",
              "      <th>Salary</th>\n",
              "    </tr>\n",
              "    <tr>\n",
              "      <th>Name</th>\n",
              "      <th></th>\n",
              "      <th></th>\n",
              "      <th></th>\n",
              "      <th></th>\n",
              "      <th></th>\n",
              "    </tr>\n",
              "  </thead>\n",
              "  <tbody>\n",
              "    <tr>\n",
              "      <th>Brian Bowen</th>\n",
              "      <td>Brian Bowen</td>\n",
              "      <td>Indiana Pacers</td>\n",
              "      <td>SG</td>\n",
              "      <td>1998-10-02</td>\n",
              "      <td>79568</td>\n",
              "    </tr>\n",
              "    <tr>\n",
              "      <th>Marco Belinelli</th>\n",
              "      <td>Marco Belinelli</td>\n",
              "      <td>San Antonio Spurs</td>\n",
              "      <td>SF</td>\n",
              "      <td>1986-03-25</td>\n",
              "      <td>5846154</td>\n",
              "    </tr>\n",
              "    <tr>\n",
              "      <th>Jarred Vanderbilt</th>\n",
              "      <td>Jarred Vanderbilt</td>\n",
              "      <td>Denver Nuggets</td>\n",
              "      <td>PF</td>\n",
              "      <td>1999-04-03</td>\n",
              "      <td>1416852</td>\n",
              "    </tr>\n",
              "    <tr>\n",
              "      <th>Louis King</th>\n",
              "      <td>Louis King</td>\n",
              "      <td>Detroit Pistons</td>\n",
              "      <td>F</td>\n",
              "      <td>1999-04-06</td>\n",
              "      <td>79568</td>\n",
              "    </tr>\n",
              "  </tbody>\n",
              "</table>\n",
              "</div>"
            ],
            "text/plain": [
              "                                Name               Team Position   Birthday  \\\n",
              "Name                                                                          \n",
              "Brian Bowen              Brian Bowen     Indiana Pacers       SG 1998-10-02   \n",
              "Marco Belinelli      Marco Belinelli  San Antonio Spurs       SF 1986-03-25   \n",
              "Jarred Vanderbilt  Jarred Vanderbilt     Denver Nuggets       PF 1999-04-03   \n",
              "Louis King                Louis King    Detroit Pistons        F 1999-04-06   \n",
              "\n",
              "                    Salary  \n",
              "Name                        \n",
              "Brian Bowen          79568  \n",
              "Marco Belinelli    5846154  \n",
              "Jarred Vanderbilt  1416852  \n",
              "Louis King           79568  "
            ]
          },
          "execution_count": 64,
          "metadata": {},
          "output_type": "execute_result"
        }
      ],
      "source": [
        "nba.iloc[[100, 200, 300, 400]]"
      ]
    },
    {
      "cell_type": "code",
      "execution_count": null,
      "metadata": {
        "id": "jC3I5sc9wxh4",
        "outputId": "330fccb2-dbe0-41b8-eace-af5076d92acb"
      },
      "outputs": [
        {
          "data": {
            "text/html": [
              "<div>\n",
              "<style scoped>\n",
              "    .dataframe tbody tr th:only-of-type {\n",
              "        vertical-align: middle;\n",
              "    }\n",
              "\n",
              "    .dataframe tbody tr th {\n",
              "        vertical-align: top;\n",
              "    }\n",
              "\n",
              "    .dataframe thead th {\n",
              "        text-align: right;\n",
              "    }\n",
              "</style>\n",
              "<table border=\"1\" class=\"dataframe\">\n",
              "  <thead>\n",
              "    <tr style=\"text-align: right;\">\n",
              "      <th></th>\n",
              "      <th>Name</th>\n",
              "      <th>Team</th>\n",
              "      <th>Position</th>\n",
              "      <th>Birthday</th>\n",
              "      <th>Salary</th>\n",
              "    </tr>\n",
              "    <tr>\n",
              "      <th>Name</th>\n",
              "      <th></th>\n",
              "      <th></th>\n",
              "      <th></th>\n",
              "      <th></th>\n",
              "      <th></th>\n",
              "    </tr>\n",
              "  </thead>\n",
              "  <tbody>\n",
              "    <tr>\n",
              "      <th>Louis King</th>\n",
              "      <td>Louis King</td>\n",
              "      <td>Detroit Pistons</td>\n",
              "      <td>F</td>\n",
              "      <td>1999-04-06</td>\n",
              "      <td>79568</td>\n",
              "    </tr>\n",
              "    <tr>\n",
              "      <th>Kostas Antetokounmpo</th>\n",
              "      <td>Kostas Antetokounmpo</td>\n",
              "      <td>Los Angeles Lakers</td>\n",
              "      <td>PF</td>\n",
              "      <td>1997-11-20</td>\n",
              "      <td>79568</td>\n",
              "    </tr>\n",
              "    <tr>\n",
              "      <th>Rodions Kurucs</th>\n",
              "      <td>Rodions Kurucs</td>\n",
              "      <td>Brooklyn Nets</td>\n",
              "      <td>PF</td>\n",
              "      <td>1998-02-05</td>\n",
              "      <td>1699236</td>\n",
              "    </tr>\n",
              "    <tr>\n",
              "      <th>Spencer Dinwiddie</th>\n",
              "      <td>Spencer Dinwiddie</td>\n",
              "      <td>Brooklyn Nets</td>\n",
              "      <td>PG</td>\n",
              "      <td>1993-04-06</td>\n",
              "      <td>10605600</td>\n",
              "    </tr>\n",
              "  </tbody>\n",
              "</table>\n",
              "</div>"
            ],
            "text/plain": [
              "                                      Name                Team Position  \\\n",
              "Name                                                                      \n",
              "Louis King                      Louis King     Detroit Pistons        F   \n",
              "Kostas Antetokounmpo  Kostas Antetokounmpo  Los Angeles Lakers       PF   \n",
              "Rodions Kurucs              Rodions Kurucs       Brooklyn Nets       PF   \n",
              "Spencer Dinwiddie        Spencer Dinwiddie       Brooklyn Nets       PG   \n",
              "\n",
              "                       Birthday    Salary  \n",
              "Name                                       \n",
              "Louis King           1999-04-06     79568  \n",
              "Kostas Antetokounmpo 1997-11-20     79568  \n",
              "Rodions Kurucs       1998-02-05   1699236  \n",
              "Spencer Dinwiddie    1993-04-06  10605600  "
            ]
          },
          "execution_count": 65,
          "metadata": {},
          "output_type": "execute_result"
        }
      ],
      "source": [
        "nba.iloc[400:404]"
      ]
    },
    {
      "cell_type": "code",
      "execution_count": null,
      "metadata": {
        "id": "e8oTbhKCwxh4",
        "outputId": "fd50e59e-9fd5-45ec-e239-3f32da0e3d46"
      },
      "outputs": [
        {
          "data": {
            "text/html": [
              "<div>\n",
              "<style scoped>\n",
              "    .dataframe tbody tr th:only-of-type {\n",
              "        vertical-align: middle;\n",
              "    }\n",
              "\n",
              "    .dataframe tbody tr th {\n",
              "        vertical-align: top;\n",
              "    }\n",
              "\n",
              "    .dataframe thead th {\n",
              "        text-align: right;\n",
              "    }\n",
              "</style>\n",
              "<table border=\"1\" class=\"dataframe\">\n",
              "  <thead>\n",
              "    <tr style=\"text-align: right;\">\n",
              "      <th></th>\n",
              "      <th>Name</th>\n",
              "      <th>Team</th>\n",
              "      <th>Position</th>\n",
              "      <th>Birthday</th>\n",
              "      <th>Salary</th>\n",
              "    </tr>\n",
              "    <tr>\n",
              "      <th>Name</th>\n",
              "      <th></th>\n",
              "      <th></th>\n",
              "      <th></th>\n",
              "      <th></th>\n",
              "      <th></th>\n",
              "    </tr>\n",
              "  </thead>\n",
              "  <tbody>\n",
              "    <tr>\n",
              "      <th>Shake Milton</th>\n",
              "      <td>Shake Milton</td>\n",
              "      <td>Philadelphia 76ers</td>\n",
              "      <td>SG</td>\n",
              "      <td>1996-09-26</td>\n",
              "      <td>1445697</td>\n",
              "    </tr>\n",
              "    <tr>\n",
              "      <th>Christian Wood</th>\n",
              "      <td>Christian Wood</td>\n",
              "      <td>Detroit Pistons</td>\n",
              "      <td>PF</td>\n",
              "      <td>1995-09-27</td>\n",
              "      <td>1645357</td>\n",
              "    </tr>\n",
              "  </tbody>\n",
              "</table>\n",
              "</div>"
            ],
            "text/plain": [
              "                          Name                Team Position   Birthday  \\\n",
              "Name                                                                     \n",
              "Shake Milton      Shake Milton  Philadelphia 76ers       SG 1996-09-26   \n",
              "Christian Wood  Christian Wood     Detroit Pistons       PF 1995-09-27   \n",
              "\n",
              "                 Salary  \n",
              "Name                     \n",
              "Shake Milton    1445697  \n",
              "Christian Wood  1645357  "
            ]
          },
          "execution_count": 66,
          "metadata": {},
          "output_type": "execute_result"
        }
      ],
      "source": [
        "nba.iloc[:2]"
      ]
    },
    {
      "cell_type": "code",
      "execution_count": null,
      "metadata": {
        "id": "kMohpRSowxh5",
        "outputId": "23f28875-3f8c-4535-cfcd-4ab16abd3e57"
      },
      "outputs": [
        {
          "data": {
            "text/html": [
              "<div>\n",
              "<style scoped>\n",
              "    .dataframe tbody tr th:only-of-type {\n",
              "        vertical-align: middle;\n",
              "    }\n",
              "\n",
              "    .dataframe tbody tr th {\n",
              "        vertical-align: top;\n",
              "    }\n",
              "\n",
              "    .dataframe thead th {\n",
              "        text-align: right;\n",
              "    }\n",
              "</style>\n",
              "<table border=\"1\" class=\"dataframe\">\n",
              "  <thead>\n",
              "    <tr style=\"text-align: right;\">\n",
              "      <th></th>\n",
              "      <th>Name</th>\n",
              "      <th>Team</th>\n",
              "      <th>Position</th>\n",
              "      <th>Birthday</th>\n",
              "      <th>Salary</th>\n",
              "    </tr>\n",
              "    <tr>\n",
              "      <th>Name</th>\n",
              "      <th></th>\n",
              "      <th></th>\n",
              "      <th></th>\n",
              "      <th></th>\n",
              "      <th></th>\n",
              "    </tr>\n",
              "  </thead>\n",
              "  <tbody>\n",
              "    <tr>\n",
              "      <th>Robin Lopez</th>\n",
              "      <td>Robin Lopez</td>\n",
              "      <td>Milwaukee Bucks</td>\n",
              "      <td>C</td>\n",
              "      <td>1988-04-01</td>\n",
              "      <td>4767000</td>\n",
              "    </tr>\n",
              "    <tr>\n",
              "      <th>Collin Sexton</th>\n",
              "      <td>Collin Sexton</td>\n",
              "      <td>Cleveland Cavaliers</td>\n",
              "      <td>PG</td>\n",
              "      <td>1999-01-04</td>\n",
              "      <td>4764960</td>\n",
              "    </tr>\n",
              "    <tr>\n",
              "      <th>Ricky Rubio</th>\n",
              "      <td>Ricky Rubio</td>\n",
              "      <td>Phoenix Suns</td>\n",
              "      <td>PG</td>\n",
              "      <td>1990-10-21</td>\n",
              "      <td>16200000</td>\n",
              "    </tr>\n",
              "  </tbody>\n",
              "</table>\n",
              "</div>"
            ],
            "text/plain": [
              "                        Name                 Team Position   Birthday  \\\n",
              "Name                                                                    \n",
              "Robin Lopez      Robin Lopez      Milwaukee Bucks        C 1988-04-01   \n",
              "Collin Sexton  Collin Sexton  Cleveland Cavaliers       PG 1999-01-04   \n",
              "Ricky Rubio      Ricky Rubio         Phoenix Suns       PG 1990-10-21   \n",
              "\n",
              "                 Salary  \n",
              "Name                     \n",
              "Robin Lopez     4767000  \n",
              "Collin Sexton   4764960  \n",
              "Ricky Rubio    16200000  "
            ]
          },
          "execution_count": 67,
          "metadata": {},
          "output_type": "execute_result"
        }
      ],
      "source": [
        "nba.iloc[447:]"
      ]
    },
    {
      "cell_type": "code",
      "execution_count": null,
      "metadata": {
        "id": "VN-3v_2iwxh5",
        "outputId": "368d780b-6352-4273-ec70-86e54c6da97a"
      },
      "outputs": [
        {
          "data": {
            "text/html": [
              "<div>\n",
              "<style scoped>\n",
              "    .dataframe tbody tr th:only-of-type {\n",
              "        vertical-align: middle;\n",
              "    }\n",
              "\n",
              "    .dataframe tbody tr th {\n",
              "        vertical-align: top;\n",
              "    }\n",
              "\n",
              "    .dataframe thead th {\n",
              "        text-align: right;\n",
              "    }\n",
              "</style>\n",
              "<table border=\"1\" class=\"dataframe\">\n",
              "  <thead>\n",
              "    <tr style=\"text-align: right;\">\n",
              "      <th></th>\n",
              "      <th>Name</th>\n",
              "      <th>Team</th>\n",
              "      <th>Position</th>\n",
              "      <th>Birthday</th>\n",
              "      <th>Salary</th>\n",
              "    </tr>\n",
              "    <tr>\n",
              "      <th>Name</th>\n",
              "      <th></th>\n",
              "      <th></th>\n",
              "      <th></th>\n",
              "      <th></th>\n",
              "      <th></th>\n",
              "    </tr>\n",
              "  </thead>\n",
              "  <tbody>\n",
              "    <tr>\n",
              "      <th>Jared Dudley</th>\n",
              "      <td>Jared Dudley</td>\n",
              "      <td>Los Angeles Lakers</td>\n",
              "      <td>PF</td>\n",
              "      <td>1985-07-10</td>\n",
              "      <td>2564753</td>\n",
              "    </tr>\n",
              "    <tr>\n",
              "      <th>Max Strus</th>\n",
              "      <td>Max Strus</td>\n",
              "      <td>Chicago Bulls</td>\n",
              "      <td>SG</td>\n",
              "      <td>1996-03-28</td>\n",
              "      <td>79568</td>\n",
              "    </tr>\n",
              "    <tr>\n",
              "      <th>Kevon Looney</th>\n",
              "      <td>Kevon Looney</td>\n",
              "      <td>Golden State Warriors</td>\n",
              "      <td>C</td>\n",
              "      <td>1996-02-06</td>\n",
              "      <td>4464286</td>\n",
              "    </tr>\n",
              "    <tr>\n",
              "      <th>Willy Hernangomez</th>\n",
              "      <td>Willy Hernangomez</td>\n",
              "      <td>Charlotte Hornets</td>\n",
              "      <td>C</td>\n",
              "      <td>1994-05-27</td>\n",
              "      <td>1557250</td>\n",
              "    </tr>\n",
              "  </tbody>\n",
              "</table>\n",
              "</div>"
            ],
            "text/plain": [
              "                                Name                   Team Position  \\\n",
              "Name                                                                   \n",
              "Jared Dudley            Jared Dudley     Los Angeles Lakers       PF   \n",
              "Max Strus                  Max Strus          Chicago Bulls       SG   \n",
              "Kevon Looney            Kevon Looney  Golden State Warriors        C   \n",
              "Willy Hernangomez  Willy Hernangomez      Charlotte Hornets        C   \n",
              "\n",
              "                    Birthday   Salary  \n",
              "Name                                   \n",
              "Jared Dudley      1985-07-10  2564753  \n",
              "Max Strus         1996-03-28    79568  \n",
              "Kevon Looney      1996-02-06  4464286  \n",
              "Willy Hernangomez 1994-05-27  1557250  "
            ]
          },
          "execution_count": 68,
          "metadata": {},
          "output_type": "execute_result"
        }
      ],
      "source": [
        "nba.iloc[-10:-6]"
      ]
    },
    {
      "cell_type": "code",
      "execution_count": null,
      "metadata": {
        "id": "mjlI3o_Zwxh5",
        "outputId": "fd879069-64e3-4ecc-a73f-7ac265012034"
      },
      "outputs": [
        {
          "data": {
            "text/html": [
              "<div>\n",
              "<style scoped>\n",
              "    .dataframe tbody tr th:only-of-type {\n",
              "        vertical-align: middle;\n",
              "    }\n",
              "\n",
              "    .dataframe tbody tr th {\n",
              "        vertical-align: top;\n",
              "    }\n",
              "\n",
              "    .dataframe thead th {\n",
              "        text-align: right;\n",
              "    }\n",
              "</style>\n",
              "<table border=\"1\" class=\"dataframe\">\n",
              "  <thead>\n",
              "    <tr style=\"text-align: right;\">\n",
              "      <th></th>\n",
              "      <th>Name</th>\n",
              "      <th>Team</th>\n",
              "      <th>Position</th>\n",
              "      <th>Birthday</th>\n",
              "      <th>Salary</th>\n",
              "    </tr>\n",
              "    <tr>\n",
              "      <th>Name</th>\n",
              "      <th></th>\n",
              "      <th></th>\n",
              "      <th></th>\n",
              "      <th></th>\n",
              "      <th></th>\n",
              "    </tr>\n",
              "  </thead>\n",
              "  <tbody>\n",
              "    <tr>\n",
              "      <th>Shake Milton</th>\n",
              "      <td>Shake Milton</td>\n",
              "      <td>Philadelphia 76ers</td>\n",
              "      <td>SG</td>\n",
              "      <td>1996-09-26</td>\n",
              "      <td>1445697</td>\n",
              "    </tr>\n",
              "    <tr>\n",
              "      <th>PJ Washington</th>\n",
              "      <td>PJ Washington</td>\n",
              "      <td>Charlotte Hornets</td>\n",
              "      <td>PF</td>\n",
              "      <td>1998-08-23</td>\n",
              "      <td>3831840</td>\n",
              "    </tr>\n",
              "    <tr>\n",
              "      <th>Marial Shayok</th>\n",
              "      <td>Marial Shayok</td>\n",
              "      <td>Philadelphia 76ers</td>\n",
              "      <td>G</td>\n",
              "      <td>1995-07-26</td>\n",
              "      <td>79568</td>\n",
              "    </tr>\n",
              "    <tr>\n",
              "      <th>Kendrick Nunn</th>\n",
              "      <td>Kendrick Nunn</td>\n",
              "      <td>Miami Heat</td>\n",
              "      <td>SG</td>\n",
              "      <td>1995-08-03</td>\n",
              "      <td>1416852</td>\n",
              "    </tr>\n",
              "    <tr>\n",
              "      <th>Brook Lopez</th>\n",
              "      <td>Brook Lopez</td>\n",
              "      <td>Milwaukee Bucks</td>\n",
              "      <td>C</td>\n",
              "      <td>1988-04-01</td>\n",
              "      <td>12093024</td>\n",
              "    </tr>\n",
              "  </tbody>\n",
              "</table>\n",
              "</div>"
            ],
            "text/plain": [
              "                        Name                Team Position   Birthday    Salary\n",
              "Name                                                                          \n",
              "Shake Milton    Shake Milton  Philadelphia 76ers       SG 1996-09-26   1445697\n",
              "PJ Washington  PJ Washington   Charlotte Hornets       PF 1998-08-23   3831840\n",
              "Marial Shayok  Marial Shayok  Philadelphia 76ers        G 1995-07-26     79568\n",
              "Kendrick Nunn  Kendrick Nunn          Miami Heat       SG 1995-08-03   1416852\n",
              "Brook Lopez      Brook Lopez     Milwaukee Bucks        C 1988-04-01  12093024"
            ]
          },
          "execution_count": 69,
          "metadata": {},
          "output_type": "execute_result"
        }
      ],
      "source": [
        "nba.iloc[0:10:2]"
      ]
    },
    {
      "cell_type": "markdown",
      "metadata": {
        "id": "e6O3BELVwxh5"
      },
      "source": [
        "### 7.3 Extracting Values from Specific Columns"
      ]
    },
    {
      "cell_type": "code",
      "execution_count": null,
      "metadata": {
        "id": "rLiRQXrnwxh5",
        "outputId": "0055a501-902b-469b-ae3b-f7d707cd0990"
      },
      "outputs": [
        {
          "data": {
            "text/plain": [
              "'Milwaukee Bucks'"
            ]
          },
          "execution_count": 70,
          "metadata": {},
          "output_type": "execute_result"
        }
      ],
      "source": [
        "nba['Team'].loc[\"Giannis Antetokounmpo\"]"
      ]
    },
    {
      "cell_type": "code",
      "execution_count": null,
      "metadata": {
        "id": "6305xNlUwxh5",
        "outputId": "fab65c93-28a4-4722-d875-b266683e5eb1"
      },
      "outputs": [
        {
          "data": {
            "text/plain": [
              "Position                     PG\n",
              "Birthday    1989-08-26 00:00:00\n",
              "Name: James Harden, dtype: object"
            ]
          },
          "execution_count": 71,
          "metadata": {},
          "output_type": "execute_result"
        }
      ],
      "source": [
        "nba.loc[\"James Harden\", [\"Position\", \"Birthday\"]]"
      ]
    },
    {
      "cell_type": "code",
      "execution_count": null,
      "metadata": {
        "id": "o3YR3Dsmwxh5",
        "outputId": "13b3adfc-e701-494a-aba5-5228c4803ee6"
      },
      "outputs": [
        {
          "data": {
            "text/html": [
              "<div>\n",
              "<style scoped>\n",
              "    .dataframe tbody tr th:only-of-type {\n",
              "        vertical-align: middle;\n",
              "    }\n",
              "\n",
              "    .dataframe tbody tr th {\n",
              "        vertical-align: top;\n",
              "    }\n",
              "\n",
              "    .dataframe thead th {\n",
              "        text-align: right;\n",
              "    }\n",
              "</style>\n",
              "<table border=\"1\" class=\"dataframe\">\n",
              "  <thead>\n",
              "    <tr style=\"text-align: right;\">\n",
              "      <th></th>\n",
              "      <th>Team</th>\n",
              "      <th>Salary</th>\n",
              "    </tr>\n",
              "    <tr>\n",
              "      <th>Name</th>\n",
              "      <th></th>\n",
              "      <th></th>\n",
              "    </tr>\n",
              "  </thead>\n",
              "  <tbody>\n",
              "    <tr>\n",
              "      <th>Russell Westbrook</th>\n",
              "      <td>Houston Rockets</td>\n",
              "      <td>38506482</td>\n",
              "    </tr>\n",
              "    <tr>\n",
              "      <th>Anthony Davis</th>\n",
              "      <td>Los Angeles Lakers</td>\n",
              "      <td>27093019</td>\n",
              "    </tr>\n",
              "  </tbody>\n",
              "</table>\n",
              "</div>"
            ],
            "text/plain": [
              "                                 Team    Salary\n",
              "Name                                           \n",
              "Russell Westbrook     Houston Rockets  38506482\n",
              "Anthony Davis      Los Angeles Lakers  27093019"
            ]
          },
          "execution_count": 72,
          "metadata": {},
          "output_type": "execute_result"
        }
      ],
      "source": [
        "nba.loc[\n",
        "    [\"Russell Westbrook\", \"Anthony Davis\"],\n",
        "    [\"Team\", \"Salary\"]\n",
        "]"
      ]
    },
    {
      "cell_type": "code",
      "execution_count": null,
      "metadata": {
        "id": "l1wfEMZfwxh6",
        "outputId": "058e2302-8edf-48eb-d04a-095df0c784dc"
      },
      "outputs": [
        {
          "data": {
            "text/plain": [
              "Position                      C\n",
              "Birthday    1994-03-16 00:00:00\n",
              "Salary                 27504630\n",
              "Name: Joel Embiid, dtype: object"
            ]
          },
          "execution_count": 73,
          "metadata": {},
          "output_type": "execute_result"
        }
      ],
      "source": [
        "nba.loc[\"Joel Embiid\", \"Position\":\"Salary\"]"
      ]
    },
    {
      "cell_type": "code",
      "execution_count": null,
      "metadata": {
        "id": "N_BPAfgkwxh6",
        "outputId": "008a6998-7584-4073-c5e1-512bba413844"
      },
      "outputs": [
        {
          "data": {
            "text/plain": [
              "Series([], Name: Joel Embiid, dtype: object)"
            ]
          },
          "execution_count": 74,
          "metadata": {},
          "output_type": "execute_result"
        }
      ],
      "source": [
        "nba.loc[\"Joel Embiid\", \"Salary\":\"Position\"]"
      ]
    },
    {
      "cell_type": "code",
      "execution_count": null,
      "metadata": {
        "id": "cNCYYoZ1wxh6",
        "outputId": "f9ce03f5-4bb0-43f2-ec87-db6b6ddda947"
      },
      "outputs": [
        {
          "data": {
            "text/plain": [
              "Timestamp('1997-04-17 00:00:00')"
            ]
          },
          "execution_count": 75,
          "metadata": {},
          "output_type": "execute_result"
        }
      ],
      "source": [
        "nba.iloc[57, 3]"
      ]
    },
    {
      "cell_type": "code",
      "execution_count": null,
      "metadata": {
        "id": "pnq6nppswxh6",
        "outputId": "5a419124-2812-48bc-bc7d-cbedb3267a3a"
      },
      "outputs": [
        {
          "data": {
            "text/html": [
              "<div>\n",
              "<style scoped>\n",
              "    .dataframe tbody tr th:only-of-type {\n",
              "        vertical-align: middle;\n",
              "    }\n",
              "\n",
              "    .dataframe tbody tr th {\n",
              "        vertical-align: top;\n",
              "    }\n",
              "\n",
              "    .dataframe thead th {\n",
              "        text-align: right;\n",
              "    }\n",
              "</style>\n",
              "<table border=\"1\" class=\"dataframe\">\n",
              "  <thead>\n",
              "    <tr style=\"text-align: right;\">\n",
              "      <th></th>\n",
              "      <th>Name</th>\n",
              "      <th>Team</th>\n",
              "      <th>Position</th>\n",
              "    </tr>\n",
              "    <tr>\n",
              "      <th>Name</th>\n",
              "      <th></th>\n",
              "      <th></th>\n",
              "      <th></th>\n",
              "    </tr>\n",
              "  </thead>\n",
              "  <tbody>\n",
              "    <tr>\n",
              "      <th>Brian Bowen</th>\n",
              "      <td>Brian Bowen</td>\n",
              "      <td>Indiana Pacers</td>\n",
              "      <td>SG</td>\n",
              "    </tr>\n",
              "    <tr>\n",
              "      <th>Aaron Holiday</th>\n",
              "      <td>Aaron Holiday</td>\n",
              "      <td>Indiana Pacers</td>\n",
              "      <td>PG</td>\n",
              "    </tr>\n",
              "    <tr>\n",
              "      <th>Troy Daniels</th>\n",
              "      <td>Troy Daniels</td>\n",
              "      <td>Los Angeles Lakers</td>\n",
              "      <td>SG</td>\n",
              "    </tr>\n",
              "    <tr>\n",
              "      <th>Buddy Hield</th>\n",
              "      <td>Buddy Hield</td>\n",
              "      <td>Sacramento Kings</td>\n",
              "      <td>SG</td>\n",
              "    </tr>\n",
              "  </tbody>\n",
              "</table>\n",
              "</div>"
            ],
            "text/plain": [
              "                        Name                Team Position\n",
              "Name                                                     \n",
              "Brian Bowen      Brian Bowen      Indiana Pacers       SG\n",
              "Aaron Holiday  Aaron Holiday      Indiana Pacers       PG\n",
              "Troy Daniels    Troy Daniels  Los Angeles Lakers       SG\n",
              "Buddy Hield      Buddy Hield    Sacramento Kings       SG"
            ]
          },
          "execution_count": 76,
          "metadata": {},
          "output_type": "execute_result"
        }
      ],
      "source": [
        "nba.iloc[100:104, :3]"
      ]
    },
    {
      "cell_type": "code",
      "execution_count": null,
      "metadata": {
        "id": "437Xu128wxh6",
        "outputId": "e3fe857d-ea53-434d-98e0-73a79559e4c5"
      },
      "outputs": [
        {
          "data": {
            "text/plain": [
              "Timestamp('1992-08-01 00:00:00')"
            ]
          },
          "execution_count": 77,
          "metadata": {},
          "output_type": "execute_result"
        }
      ],
      "source": [
        "nba.at[\"Austin Rivers\", \"Birthday\"]"
      ]
    },
    {
      "cell_type": "code",
      "execution_count": null,
      "metadata": {
        "id": "ba2vBrS8wxh6",
        "outputId": "29f26798-5f15-47a7-957f-a8551d4d8072"
      },
      "outputs": [
        {
          "data": {
            "text/plain": [
              "'Orlando Magic'"
            ]
          },
          "execution_count": 78,
          "metadata": {},
          "output_type": "execute_result"
        }
      ],
      "source": [
        "nba.iat[263, 1]"
      ]
    },
    {
      "cell_type": "code",
      "execution_count": null,
      "metadata": {
        "id": "ruMdnPHowxh6",
        "outputId": "258e30d3-1722-46fd-b277-1cf7df71887a"
      },
      "outputs": [
        {
          "name": "stdout",
          "output_type": "stream",
          "text": [
            "7.18 µs ± 412 ns per loop (mean ± std. dev. of 7 runs, 100,000 loops each)\n"
          ]
        }
      ],
      "source": [
        "%%timeit\n",
        "nba.at[\"Austin Rivers\", \"Birthday\"]"
      ]
    },
    {
      "cell_type": "code",
      "execution_count": null,
      "metadata": {
        "id": "2bJR4LLLwxh7",
        "outputId": "276557ab-809d-41f1-c862-c55bba14d668"
      },
      "outputs": [
        {
          "name": "stdout",
          "output_type": "stream",
          "text": [
            "10.9 µs ± 276 ns per loop (mean ± std. dev. of 7 runs, 100,000 loops each)\n"
          ]
        }
      ],
      "source": [
        "%%timeit\n",
        "nba.loc[\"Austin Rivers\", \"Birthday\"]"
      ]
    },
    {
      "cell_type": "code",
      "execution_count": null,
      "metadata": {
        "id": "UxcZ_ibswxh7",
        "outputId": "3b5fb9c5-0c15-4031-b3bf-73a491855188"
      },
      "outputs": [
        {
          "name": "stdout",
          "output_type": "stream",
          "text": [
            "12.5 µs ± 686 ns per loop (mean ± std. dev. of 7 runs, 100,000 loops each)\n"
          ]
        }
      ],
      "source": [
        "%%timeit\n",
        "nba.iat[263, 1]"
      ]
    },
    {
      "cell_type": "code",
      "execution_count": null,
      "metadata": {
        "id": "r0ffv4T5wxh7",
        "outputId": "6efb8e88-4e2f-4e41-fe2f-ab7fcd357753"
      },
      "outputs": [
        {
          "name": "stdout",
          "output_type": "stream",
          "text": [
            "17.4 µs ± 1.03 µs per loop (mean ± std. dev. of 7 runs, 100,000 loops each)\n"
          ]
        }
      ],
      "source": [
        "%%timeit\n",
        "nba.iloc[263, 1]"
      ]
    },
    {
      "cell_type": "markdown",
      "metadata": {
        "id": "4aOpk0U2wxh7"
      },
      "source": [
        "## 8 Extracting Values from Series"
      ]
    },
    {
      "cell_type": "code",
      "execution_count": null,
      "metadata": {
        "id": "AFQQAlHkwxh7",
        "outputId": "f3027797-17a7-40d5-fc46-f0b70984df31"
      },
      "outputs": [
        {
          "data": {
            "text/plain": [
              "29802321"
            ]
          },
          "execution_count": 83,
          "metadata": {},
          "output_type": "execute_result"
        }
      ],
      "source": [
        "nba[\"Salary\"].loc[\"Damian Lillard\"]"
      ]
    },
    {
      "cell_type": "code",
      "execution_count": null,
      "metadata": {
        "id": "SeibkohXwxh7",
        "outputId": "66449354-3206-43ad-f356-bbe2a07dfe8b"
      },
      "outputs": [
        {
          "data": {
            "text/plain": [
              "29802321"
            ]
          },
          "execution_count": 84,
          "metadata": {},
          "output_type": "execute_result"
        }
      ],
      "source": [
        "nba[\"Salary\"].at[\"Damian Lillard\"]"
      ]
    },
    {
      "cell_type": "code",
      "execution_count": null,
      "metadata": {
        "id": "l9kcuRtrwxh8",
        "outputId": "0e60aa57-862e-459c-a887-542a00a36610"
      },
      "outputs": [
        {
          "data": {
            "text/plain": [
              "2033160"
            ]
          },
          "execution_count": 85,
          "metadata": {},
          "output_type": "execute_result"
        }
      ],
      "source": [
        "nba[\"Salary\"].iloc[234]"
      ]
    },
    {
      "cell_type": "code",
      "execution_count": null,
      "metadata": {
        "id": "k7Qd4WG1wxh8",
        "outputId": "11f552cf-3aef-4b25-a7bf-4636df38e2e2"
      },
      "outputs": [
        {
          "data": {
            "text/plain": [
              "2033160"
            ]
          },
          "execution_count": 86,
          "metadata": {},
          "output_type": "execute_result"
        }
      ],
      "source": [
        "nba[\"Salary\"].iat[234]"
      ]
    },
    {
      "cell_type": "markdown",
      "metadata": {
        "id": "mZkjq333wxh8"
      },
      "source": [
        "## 9 Renaming Columns or Rows"
      ]
    },
    {
      "cell_type": "code",
      "execution_count": null,
      "metadata": {
        "id": "kElvwPV4wxh8",
        "outputId": "3d038ae3-ed9b-4b87-d939-80da69df7e6e"
      },
      "outputs": [
        {
          "data": {
            "text/plain": [
              "Index(['Name', 'Team', 'Position', 'Birthday', 'Salary'], dtype='object')"
            ]
          },
          "execution_count": 87,
          "metadata": {},
          "output_type": "execute_result"
        }
      ],
      "source": [
        "nba.columns"
      ]
    },
    {
      "cell_type": "code",
      "execution_count": null,
      "metadata": {
        "id": "2LnW6cIlwxh8",
        "outputId": "8b3674a7-cefa-4d85-f737-e8ac651490e2"
      },
      "outputs": [
        {
          "data": {
            "text/html": [
              "<div>\n",
              "<style scoped>\n",
              "    .dataframe tbody tr th:only-of-type {\n",
              "        vertical-align: middle;\n",
              "    }\n",
              "\n",
              "    .dataframe tbody tr th {\n",
              "        vertical-align: top;\n",
              "    }\n",
              "\n",
              "    .dataframe thead th {\n",
              "        text-align: right;\n",
              "    }\n",
              "</style>\n",
              "<table border=\"1\" class=\"dataframe\">\n",
              "  <thead>\n",
              "    <tr style=\"text-align: right;\">\n",
              "      <th></th>\n",
              "      <th>First&amp;LastName</th>\n",
              "      <th>Team</th>\n",
              "      <th>Position</th>\n",
              "      <th>Date of Birth</th>\n",
              "      <th>Pay</th>\n",
              "    </tr>\n",
              "    <tr>\n",
              "      <th>Name</th>\n",
              "      <th></th>\n",
              "      <th></th>\n",
              "      <th></th>\n",
              "      <th></th>\n",
              "      <th></th>\n",
              "    </tr>\n",
              "  </thead>\n",
              "  <tbody>\n",
              "    <tr>\n",
              "      <th>Shake Milton</th>\n",
              "      <td>Shake Milton</td>\n",
              "      <td>Philadelphia 76ers</td>\n",
              "      <td>SG</td>\n",
              "      <td>1996-09-26</td>\n",
              "      <td>1445697</td>\n",
              "    </tr>\n",
              "  </tbody>\n",
              "</table>\n",
              "</div>"
            ],
            "text/plain": [
              "             First&LastName                Team Position Date of Birth  \\\n",
              "Name                                                                     \n",
              "Shake Milton   Shake Milton  Philadelphia 76ers       SG    1996-09-26   \n",
              "\n",
              "                  Pay  \n",
              "Name                   \n",
              "Shake Milton  1445697  "
            ]
          },
          "execution_count": 91,
          "metadata": {},
          "output_type": "execute_result"
        }
      ],
      "source": [
        "nba.columns = [\"First&LastName\",\"Team\", \"Position\", \"Date of Birth\", \"Pay\"]\n",
        "nba.head(1)"
      ]
    },
    {
      "cell_type": "code",
      "execution_count": null,
      "metadata": {
        "id": "IIOWlB_Mwxh8",
        "outputId": "512595bd-a616-4949-c18b-b46cc7d168e0"
      },
      "outputs": [
        {
          "data": {
            "text/html": [
              "<div>\n",
              "<style scoped>\n",
              "    .dataframe tbody tr th:only-of-type {\n",
              "        vertical-align: middle;\n",
              "    }\n",
              "\n",
              "    .dataframe tbody tr th {\n",
              "        vertical-align: top;\n",
              "    }\n",
              "\n",
              "    .dataframe thead th {\n",
              "        text-align: right;\n",
              "    }\n",
              "</style>\n",
              "<table border=\"1\" class=\"dataframe\">\n",
              "  <thead>\n",
              "    <tr style=\"text-align: right;\">\n",
              "      <th></th>\n",
              "      <th>First&amp;LastName</th>\n",
              "      <th>Team</th>\n",
              "      <th>Position</th>\n",
              "      <th>Birthday</th>\n",
              "      <th>Pay</th>\n",
              "    </tr>\n",
              "    <tr>\n",
              "      <th>Name</th>\n",
              "      <th></th>\n",
              "      <th></th>\n",
              "      <th></th>\n",
              "      <th></th>\n",
              "      <th></th>\n",
              "    </tr>\n",
              "  </thead>\n",
              "  <tbody>\n",
              "    <tr>\n",
              "      <th>Shake Milton</th>\n",
              "      <td>Shake Milton</td>\n",
              "      <td>Philadelphia 76ers</td>\n",
              "      <td>SG</td>\n",
              "      <td>1996-09-26</td>\n",
              "      <td>1445697</td>\n",
              "    </tr>\n",
              "    <tr>\n",
              "      <th>Christian Wood</th>\n",
              "      <td>Christian Wood</td>\n",
              "      <td>Detroit Pistons</td>\n",
              "      <td>PF</td>\n",
              "      <td>1995-09-27</td>\n",
              "      <td>1645357</td>\n",
              "    </tr>\n",
              "    <tr>\n",
              "      <th>PJ Washington</th>\n",
              "      <td>PJ Washington</td>\n",
              "      <td>Charlotte Hornets</td>\n",
              "      <td>PF</td>\n",
              "      <td>1998-08-23</td>\n",
              "      <td>3831840</td>\n",
              "    </tr>\n",
              "    <tr>\n",
              "      <th>Derrick Rose</th>\n",
              "      <td>Derrick Rose</td>\n",
              "      <td>Detroit Pistons</td>\n",
              "      <td>PG</td>\n",
              "      <td>1988-10-04</td>\n",
              "      <td>7317074</td>\n",
              "    </tr>\n",
              "    <tr>\n",
              "      <th>Marial Shayok</th>\n",
              "      <td>Marial Shayok</td>\n",
              "      <td>Philadelphia 76ers</td>\n",
              "      <td>G</td>\n",
              "      <td>1995-07-26</td>\n",
              "      <td>79568</td>\n",
              "    </tr>\n",
              "    <tr>\n",
              "      <th>...</th>\n",
              "      <td>...</td>\n",
              "      <td>...</td>\n",
              "      <td>...</td>\n",
              "      <td>...</td>\n",
              "      <td>...</td>\n",
              "    </tr>\n",
              "    <tr>\n",
              "      <th>Austin Rivers</th>\n",
              "      <td>Austin Rivers</td>\n",
              "      <td>Houston Rockets</td>\n",
              "      <td>PG</td>\n",
              "      <td>1992-08-01</td>\n",
              "      <td>2174310</td>\n",
              "    </tr>\n",
              "    <tr>\n",
              "      <th>Harry Giles</th>\n",
              "      <td>Harry Giles</td>\n",
              "      <td>Sacramento Kings</td>\n",
              "      <td>PF</td>\n",
              "      <td>1998-04-22</td>\n",
              "      <td>2578800</td>\n",
              "    </tr>\n",
              "    <tr>\n",
              "      <th>Robin Lopez</th>\n",
              "      <td>Robin Lopez</td>\n",
              "      <td>Milwaukee Bucks</td>\n",
              "      <td>C</td>\n",
              "      <td>1988-04-01</td>\n",
              "      <td>4767000</td>\n",
              "    </tr>\n",
              "    <tr>\n",
              "      <th>Collin Sexton</th>\n",
              "      <td>Collin Sexton</td>\n",
              "      <td>Cleveland Cavaliers</td>\n",
              "      <td>PG</td>\n",
              "      <td>1999-01-04</td>\n",
              "      <td>4764960</td>\n",
              "    </tr>\n",
              "    <tr>\n",
              "      <th>Ricky Rubio</th>\n",
              "      <td>Ricky Rubio</td>\n",
              "      <td>Phoenix Suns</td>\n",
              "      <td>PG</td>\n",
              "      <td>1990-10-21</td>\n",
              "      <td>16200000</td>\n",
              "    </tr>\n",
              "  </tbody>\n",
              "</table>\n",
              "<p>450 rows × 5 columns</p>\n",
              "</div>"
            ],
            "text/plain": [
              "                First&LastName                 Team Position   Birthday  \\\n",
              "Name                                                                      \n",
              "Shake Milton      Shake Milton   Philadelphia 76ers       SG 1996-09-26   \n",
              "Christian Wood  Christian Wood      Detroit Pistons       PF 1995-09-27   \n",
              "PJ Washington    PJ Washington    Charlotte Hornets       PF 1998-08-23   \n",
              "Derrick Rose      Derrick Rose      Detroit Pistons       PG 1988-10-04   \n",
              "Marial Shayok    Marial Shayok   Philadelphia 76ers        G 1995-07-26   \n",
              "...                        ...                  ...      ...        ...   \n",
              "Austin Rivers    Austin Rivers      Houston Rockets       PG 1992-08-01   \n",
              "Harry Giles        Harry Giles     Sacramento Kings       PF 1998-04-22   \n",
              "Robin Lopez        Robin Lopez      Milwaukee Bucks        C 1988-04-01   \n",
              "Collin Sexton    Collin Sexton  Cleveland Cavaliers       PG 1999-01-04   \n",
              "Ricky Rubio        Ricky Rubio         Phoenix Suns       PG 1990-10-21   \n",
              "\n",
              "                     Pay  \n",
              "Name                      \n",
              "Shake Milton     1445697  \n",
              "Christian Wood   1645357  \n",
              "PJ Washington    3831840  \n",
              "Derrick Rose     7317074  \n",
              "Marial Shayok      79568  \n",
              "...                  ...  \n",
              "Austin Rivers    2174310  \n",
              "Harry Giles      2578800  \n",
              "Robin Lopez      4767000  \n",
              "Collin Sexton    4764960  \n",
              "Ricky Rubio     16200000  \n",
              "\n",
              "[450 rows x 5 columns]"
            ]
          },
          "execution_count": 92,
          "metadata": {},
          "output_type": "execute_result"
        }
      ],
      "source": [
        "nba.rename(columns = { \"Date of Birth\": \"Birthday\" })"
      ]
    },
    {
      "cell_type": "code",
      "execution_count": null,
      "metadata": {
        "id": "5-9RH7G6wxh8"
      },
      "outputs": [],
      "source": [
        "nba = nba.rename(columns = { \"Date of Birth\": \"Birthday\" })"
      ]
    },
    {
      "cell_type": "code",
      "execution_count": null,
      "metadata": {
        "id": "zw_hA8CYwxh9",
        "outputId": "f8ac3807-fd07-4b3a-bb6d-52dd034d8607"
      },
      "outputs": [
        {
          "data": {
            "text/plain": [
              "First&LastName    Giannis Antetokounmpo\n",
              "Team                    Milwaukee Bucks\n",
              "Position                             PF\n",
              "Birthday            1994-12-06 00:00:00\n",
              "Pay                            25842697\n",
              "Name: Giannis Antetokounmpo, dtype: object"
            ]
          },
          "execution_count": 94,
          "metadata": {},
          "output_type": "execute_result"
        }
      ],
      "source": [
        "nba.loc[\"Giannis Antetokounmpo\"]"
      ]
    },
    {
      "cell_type": "code",
      "execution_count": null,
      "metadata": {
        "id": "HG1EQRePwxh9"
      },
      "outputs": [],
      "source": [
        "nba = nba.rename(\n",
        "    index = { \"Giannis Antetokounmpo\": \"Greek Freak\" }\n",
        ")"
      ]
    },
    {
      "cell_type": "code",
      "execution_count": null,
      "metadata": {
        "id": "HZrOj0Blwxh9",
        "outputId": "df9b5768-0156-4e31-b056-aac8f57a3584"
      },
      "outputs": [
        {
          "data": {
            "text/plain": [
              "First&LastName    Giannis Antetokounmpo\n",
              "Team                    Milwaukee Bucks\n",
              "Position                             PF\n",
              "Birthday            1994-12-06 00:00:00\n",
              "Pay                            25842697\n",
              "Name: Greek Freak, dtype: object"
            ]
          },
          "execution_count": 96,
          "metadata": {},
          "output_type": "execute_result"
        }
      ],
      "source": [
        "nba.loc[\"Greek Freak\"]"
      ]
    },
    {
      "cell_type": "markdown",
      "metadata": {
        "id": "pLvxs7xXwxh9"
      },
      "source": [
        "## 10 Resetting an Index"
      ]
    },
    {
      "cell_type": "code",
      "execution_count": null,
      "metadata": {
        "id": "20NlzTsUwxh9",
        "outputId": "fb31444f-3284-474e-e24a-89b86b514edc"
      },
      "outputs": [
        {
          "data": {
            "text/html": [
              "<div>\n",
              "<style scoped>\n",
              "    .dataframe tbody tr th:only-of-type {\n",
              "        vertical-align: middle;\n",
              "    }\n",
              "\n",
              "    .dataframe tbody tr th {\n",
              "        vertical-align: top;\n",
              "    }\n",
              "\n",
              "    .dataframe thead th {\n",
              "        text-align: right;\n",
              "    }\n",
              "</style>\n",
              "<table border=\"1\" class=\"dataframe\">\n",
              "  <thead>\n",
              "    <tr style=\"text-align: right;\">\n",
              "      <th></th>\n",
              "      <th>First&amp;LastName</th>\n",
              "      <th>Position</th>\n",
              "      <th>Birthday</th>\n",
              "      <th>Pay</th>\n",
              "    </tr>\n",
              "    <tr>\n",
              "      <th>Team</th>\n",
              "      <th></th>\n",
              "      <th></th>\n",
              "      <th></th>\n",
              "      <th></th>\n",
              "    </tr>\n",
              "  </thead>\n",
              "  <tbody>\n",
              "    <tr>\n",
              "      <th>Philadelphia 76ers</th>\n",
              "      <td>Shake Milton</td>\n",
              "      <td>SG</td>\n",
              "      <td>1996-09-26</td>\n",
              "      <td>1445697</td>\n",
              "    </tr>\n",
              "    <tr>\n",
              "      <th>Detroit Pistons</th>\n",
              "      <td>Christian Wood</td>\n",
              "      <td>PF</td>\n",
              "      <td>1995-09-27</td>\n",
              "      <td>1645357</td>\n",
              "    </tr>\n",
              "    <tr>\n",
              "      <th>Charlotte Hornets</th>\n",
              "      <td>PJ Washington</td>\n",
              "      <td>PF</td>\n",
              "      <td>1998-08-23</td>\n",
              "      <td>3831840</td>\n",
              "    </tr>\n",
              "    <tr>\n",
              "      <th>Detroit Pistons</th>\n",
              "      <td>Derrick Rose</td>\n",
              "      <td>PG</td>\n",
              "      <td>1988-10-04</td>\n",
              "      <td>7317074</td>\n",
              "    </tr>\n",
              "    <tr>\n",
              "      <th>Philadelphia 76ers</th>\n",
              "      <td>Marial Shayok</td>\n",
              "      <td>G</td>\n",
              "      <td>1995-07-26</td>\n",
              "      <td>79568</td>\n",
              "    </tr>\n",
              "  </tbody>\n",
              "</table>\n",
              "</div>"
            ],
            "text/plain": [
              "                    First&LastName Position   Birthday      Pay\n",
              "Team                                                           \n",
              "Philadelphia 76ers    Shake Milton       SG 1996-09-26  1445697\n",
              "Detroit Pistons     Christian Wood       PF 1995-09-27  1645357\n",
              "Charlotte Hornets    PJ Washington       PF 1998-08-23  3831840\n",
              "Detroit Pistons       Derrick Rose       PG 1988-10-04  7317074\n",
              "Philadelphia 76ers   Marial Shayok        G 1995-07-26    79568"
            ]
          },
          "execution_count": 97,
          "metadata": {},
          "output_type": "execute_result"
        }
      ],
      "source": [
        "nba.set_index(\"Team\").head()"
      ]
    },
    {
      "cell_type": "code",
      "execution_count": null,
      "metadata": {
        "id": "-hopFSS_wxh9",
        "outputId": "e2e6eade-bd01-4a43-9791-ceebda6ad1f7"
      },
      "outputs": [
        {
          "data": {
            "text/html": [
              "<div>\n",
              "<style scoped>\n",
              "    .dataframe tbody tr th:only-of-type {\n",
              "        vertical-align: middle;\n",
              "    }\n",
              "\n",
              "    .dataframe tbody tr th {\n",
              "        vertical-align: top;\n",
              "    }\n",
              "\n",
              "    .dataframe thead th {\n",
              "        text-align: right;\n",
              "    }\n",
              "</style>\n",
              "<table border=\"1\" class=\"dataframe\">\n",
              "  <thead>\n",
              "    <tr style=\"text-align: right;\">\n",
              "      <th></th>\n",
              "      <th>Name</th>\n",
              "      <th>First&amp;LastName</th>\n",
              "      <th>Team</th>\n",
              "      <th>Position</th>\n",
              "      <th>Birthday</th>\n",
              "      <th>Pay</th>\n",
              "    </tr>\n",
              "  </thead>\n",
              "  <tbody>\n",
              "    <tr>\n",
              "      <th>0</th>\n",
              "      <td>Shake Milton</td>\n",
              "      <td>Shake Milton</td>\n",
              "      <td>Philadelphia 76ers</td>\n",
              "      <td>SG</td>\n",
              "      <td>1996-09-26</td>\n",
              "      <td>1445697</td>\n",
              "    </tr>\n",
              "    <tr>\n",
              "      <th>1</th>\n",
              "      <td>Christian Wood</td>\n",
              "      <td>Christian Wood</td>\n",
              "      <td>Detroit Pistons</td>\n",
              "      <td>PF</td>\n",
              "      <td>1995-09-27</td>\n",
              "      <td>1645357</td>\n",
              "    </tr>\n",
              "    <tr>\n",
              "      <th>2</th>\n",
              "      <td>PJ Washington</td>\n",
              "      <td>PJ Washington</td>\n",
              "      <td>Charlotte Hornets</td>\n",
              "      <td>PF</td>\n",
              "      <td>1998-08-23</td>\n",
              "      <td>3831840</td>\n",
              "    </tr>\n",
              "    <tr>\n",
              "      <th>3</th>\n",
              "      <td>Derrick Rose</td>\n",
              "      <td>Derrick Rose</td>\n",
              "      <td>Detroit Pistons</td>\n",
              "      <td>PG</td>\n",
              "      <td>1988-10-04</td>\n",
              "      <td>7317074</td>\n",
              "    </tr>\n",
              "    <tr>\n",
              "      <th>4</th>\n",
              "      <td>Marial Shayok</td>\n",
              "      <td>Marial Shayok</td>\n",
              "      <td>Philadelphia 76ers</td>\n",
              "      <td>G</td>\n",
              "      <td>1995-07-26</td>\n",
              "      <td>79568</td>\n",
              "    </tr>\n",
              "  </tbody>\n",
              "</table>\n",
              "</div>"
            ],
            "text/plain": [
              "             Name  First&LastName                Team Position   Birthday  \\\n",
              "0    Shake Milton    Shake Milton  Philadelphia 76ers       SG 1996-09-26   \n",
              "1  Christian Wood  Christian Wood     Detroit Pistons       PF 1995-09-27   \n",
              "2   PJ Washington   PJ Washington   Charlotte Hornets       PF 1998-08-23   \n",
              "3    Derrick Rose    Derrick Rose     Detroit Pistons       PG 1988-10-04   \n",
              "4   Marial Shayok   Marial Shayok  Philadelphia 76ers        G 1995-07-26   \n",
              "\n",
              "       Pay  \n",
              "0  1445697  \n",
              "1  1645357  \n",
              "2  3831840  \n",
              "3  7317074  \n",
              "4    79568  "
            ]
          },
          "execution_count": 98,
          "metadata": {},
          "output_type": "execute_result"
        }
      ],
      "source": [
        "nba.reset_index().head()"
      ]
    },
    {
      "cell_type": "code",
      "execution_count": null,
      "metadata": {
        "id": "cyLw4iHiwxh9",
        "outputId": "c4ab0cdc-10d2-44be-de3a-fb901717ef97"
      },
      "outputs": [
        {
          "data": {
            "text/html": [
              "<div>\n",
              "<style scoped>\n",
              "    .dataframe tbody tr th:only-of-type {\n",
              "        vertical-align: middle;\n",
              "    }\n",
              "\n",
              "    .dataframe tbody tr th {\n",
              "        vertical-align: top;\n",
              "    }\n",
              "\n",
              "    .dataframe thead th {\n",
              "        text-align: right;\n",
              "    }\n",
              "</style>\n",
              "<table border=\"1\" class=\"dataframe\">\n",
              "  <thead>\n",
              "    <tr style=\"text-align: right;\">\n",
              "      <th></th>\n",
              "      <th>Name</th>\n",
              "      <th>First&amp;LastName</th>\n",
              "      <th>Position</th>\n",
              "      <th>Birthday</th>\n",
              "      <th>Pay</th>\n",
              "    </tr>\n",
              "    <tr>\n",
              "      <th>Team</th>\n",
              "      <th></th>\n",
              "      <th></th>\n",
              "      <th></th>\n",
              "      <th></th>\n",
              "      <th></th>\n",
              "    </tr>\n",
              "  </thead>\n",
              "  <tbody>\n",
              "    <tr>\n",
              "      <th>Philadelphia 76ers</th>\n",
              "      <td>Shake Milton</td>\n",
              "      <td>Shake Milton</td>\n",
              "      <td>SG</td>\n",
              "      <td>1996-09-26</td>\n",
              "      <td>1445697</td>\n",
              "    </tr>\n",
              "    <tr>\n",
              "      <th>Detroit Pistons</th>\n",
              "      <td>Christian Wood</td>\n",
              "      <td>Christian Wood</td>\n",
              "      <td>PF</td>\n",
              "      <td>1995-09-27</td>\n",
              "      <td>1645357</td>\n",
              "    </tr>\n",
              "    <tr>\n",
              "      <th>Charlotte Hornets</th>\n",
              "      <td>PJ Washington</td>\n",
              "      <td>PJ Washington</td>\n",
              "      <td>PF</td>\n",
              "      <td>1998-08-23</td>\n",
              "      <td>3831840</td>\n",
              "    </tr>\n",
              "    <tr>\n",
              "      <th>Detroit Pistons</th>\n",
              "      <td>Derrick Rose</td>\n",
              "      <td>Derrick Rose</td>\n",
              "      <td>PG</td>\n",
              "      <td>1988-10-04</td>\n",
              "      <td>7317074</td>\n",
              "    </tr>\n",
              "    <tr>\n",
              "      <th>Philadelphia 76ers</th>\n",
              "      <td>Marial Shayok</td>\n",
              "      <td>Marial Shayok</td>\n",
              "      <td>G</td>\n",
              "      <td>1995-07-26</td>\n",
              "      <td>79568</td>\n",
              "    </tr>\n",
              "  </tbody>\n",
              "</table>\n",
              "</div>"
            ],
            "text/plain": [
              "                              Name  First&LastName Position   Birthday  \\\n",
              "Team                                                                     \n",
              "Philadelphia 76ers    Shake Milton    Shake Milton       SG 1996-09-26   \n",
              "Detroit Pistons     Christian Wood  Christian Wood       PF 1995-09-27   \n",
              "Charlotte Hornets    PJ Washington   PJ Washington       PF 1998-08-23   \n",
              "Detroit Pistons       Derrick Rose    Derrick Rose       PG 1988-10-04   \n",
              "Philadelphia 76ers   Marial Shayok   Marial Shayok        G 1995-07-26   \n",
              "\n",
              "                        Pay  \n",
              "Team                         \n",
              "Philadelphia 76ers  1445697  \n",
              "Detroit Pistons     1645357  \n",
              "Charlotte Hornets   3831840  \n",
              "Detroit Pistons     7317074  \n",
              "Philadelphia 76ers    79568  "
            ]
          },
          "execution_count": 99,
          "metadata": {},
          "output_type": "execute_result"
        }
      ],
      "source": [
        "nba.reset_index().set_index(\"Team\").head()"
      ]
    },
    {
      "cell_type": "code",
      "execution_count": null,
      "metadata": {
        "id": "_zD47yuswxh9"
      },
      "outputs": [],
      "source": [
        "nba = nba.reset_index().set_index(\"Team\")"
      ]
    },
    {
      "cell_type": "code",
      "execution_count": null,
      "metadata": {
        "id": "BkCBZmrVwxh-"
      },
      "outputs": [],
      "source": []
    }
  ],
  "metadata": {
    "kernelspec": {
      "display_name": "Python 3 (ipykernel)",
      "language": "python",
      "name": "python3"
    },
    "language_info": {
      "codemirror_mode": {
        "name": "ipython",
        "version": 3
      },
      "file_extension": ".py",
      "mimetype": "text/x-python",
      "name": "python",
      "nbconvert_exporter": "python",
      "pygments_lexer": "ipython3",
      "version": "3.11.0"
    },
    "colab": {
      "provenance": [],
      "include_colab_link": true
    }
  },
  "nbformat": 4,
  "nbformat_minor": 0
}